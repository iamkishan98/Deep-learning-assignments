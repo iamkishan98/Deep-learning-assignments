{
  "nbformat": 4,
  "nbformat_minor": 0,
  "metadata": {
    "colab": {
      "name": "PhishingWebsites.ipynb",
      "provenance": [],
      "collapsed_sections": [],
      "include_colab_link": true
    },
    "kernelspec": {
      "name": "python3",
      "display_name": "Python 3"
    }
  },
  "cells": [
    {
      "cell_type": "markdown",
      "metadata": {
        "id": "view-in-github",
        "colab_type": "text"
      },
      "source": [
        "<a href=\"https://colab.research.google.com/github/iamkishan98/Deep-learning-assignments/blob/master/PhishingWebsites.ipynb\" target=\"_parent\"><img src=\"https://colab.research.google.com/assets/colab-badge.svg\" alt=\"Open In Colab\"/></a>"
      ]
    },
    {
      "cell_type": "code",
      "metadata": {
        "id": "fSRj0gW3BZtu",
        "colab_type": "code",
        "outputId": "d827fe98-a57b-4a20-f326-3e106b541282",
        "colab": {
          "base_uri": "https://localhost:8080/",
          "height": 124
        }
      },
      "source": [
        "from google.colab import drive\n",
        "drive.mount('/content/drive')"
      ],
      "execution_count": 1,
      "outputs": [
        {
          "output_type": "stream",
          "text": [
            "Go to this URL in a browser: https://accounts.google.com/o/oauth2/auth?client_id=947318989803-6bn6qk8qdgf4n4g3pfee6491hc0brc4i.apps.googleusercontent.com&redirect_uri=urn%3aietf%3awg%3aoauth%3a2.0%3aoob&response_type=code&scope=email%20https%3a%2f%2fwww.googleapis.com%2fauth%2fdocs.test%20https%3a%2f%2fwww.googleapis.com%2fauth%2fdrive%20https%3a%2f%2fwww.googleapis.com%2fauth%2fdrive.photos.readonly%20https%3a%2f%2fwww.googleapis.com%2fauth%2fpeopleapi.readonly\n",
            "\n",
            "Enter your authorization code:\n",
            "··········\n",
            "Mounted at /content/drive\n"
          ],
          "name": "stdout"
        }
      ]
    },
    {
      "cell_type": "code",
      "metadata": {
        "id": "9SVDg0EcB2kX",
        "colab_type": "code",
        "colab": {}
      },
      "source": [
        "import os\n",
        "os.chdir('/content/drive/My Drive/PhishingDL/')"
      ],
      "execution_count": 0,
      "outputs": []
    },
    {
      "cell_type": "code",
      "metadata": {
        "id": "S2QiF7z2tw0L",
        "colab_type": "code",
        "colab": {}
      },
      "source": [
        "import pandas as pd\n",
        "import io\n",
        "df = pd.read_csv('csv_result-Phishing_features.csv')"
      ],
      "execution_count": 0,
      "outputs": []
    },
    {
      "cell_type": "code",
      "metadata": {
        "id": "jktoyjUtt0qA",
        "colab_type": "code",
        "outputId": "13f4247f-735a-42f3-a9b6-1be74ed6fc48",
        "colab": {
          "base_uri": "https://localhost:8080/",
          "height": 226
        }
      },
      "source": [
        "df.head()"
      ],
      "execution_count": 49,
      "outputs": [
        {
          "output_type": "execute_result",
          "data": {
            "text/html": [
              "<div>\n",
              "<style scoped>\n",
              "    .dataframe tbody tr th:only-of-type {\n",
              "        vertical-align: middle;\n",
              "    }\n",
              "\n",
              "    .dataframe tbody tr th {\n",
              "        vertical-align: top;\n",
              "    }\n",
              "\n",
              "    .dataframe thead th {\n",
              "        text-align: right;\n",
              "    }\n",
              "</style>\n",
              "<table border=\"1\" class=\"dataframe\">\n",
              "  <thead>\n",
              "    <tr style=\"text-align: right;\">\n",
              "      <th></th>\n",
              "      <th>id</th>\n",
              "      <th>having_IP_Address</th>\n",
              "      <th>URL_Length</th>\n",
              "      <th>Shortining_Service</th>\n",
              "      <th>having_At_Symbol</th>\n",
              "      <th>double_slash_redirecting</th>\n",
              "      <th>Prefix_Suffix</th>\n",
              "      <th>having_Sub_Domain</th>\n",
              "      <th>SSLfinal_State</th>\n",
              "      <th>Domain_registeration_length</th>\n",
              "      <th>Favicon</th>\n",
              "      <th>port</th>\n",
              "      <th>HTTPS_token</th>\n",
              "      <th>Request_URL</th>\n",
              "      <th>URL_of_Anchor</th>\n",
              "      <th>Links_in_tags</th>\n",
              "      <th>SFH</th>\n",
              "      <th>Submitting_to_email</th>\n",
              "      <th>Abnormal_URL</th>\n",
              "      <th>Redirect</th>\n",
              "      <th>on_mouseover</th>\n",
              "      <th>RightClick</th>\n",
              "      <th>popUpWidnow</th>\n",
              "      <th>Iframe</th>\n",
              "      <th>age_of_domain</th>\n",
              "      <th>DNSRecord</th>\n",
              "      <th>web_traffic</th>\n",
              "      <th>Page_Rank</th>\n",
              "      <th>Google_Index</th>\n",
              "      <th>Links_pointing_to_page</th>\n",
              "      <th>Statistical_report</th>\n",
              "      <th>Result</th>\n",
              "    </tr>\n",
              "  </thead>\n",
              "  <tbody>\n",
              "    <tr>\n",
              "      <th>0</th>\n",
              "      <td>1</td>\n",
              "      <td>-1</td>\n",
              "      <td>1</td>\n",
              "      <td>1</td>\n",
              "      <td>1</td>\n",
              "      <td>-1</td>\n",
              "      <td>-1</td>\n",
              "      <td>-1</td>\n",
              "      <td>-1</td>\n",
              "      <td>-1</td>\n",
              "      <td>1</td>\n",
              "      <td>1</td>\n",
              "      <td>-1</td>\n",
              "      <td>1</td>\n",
              "      <td>-1</td>\n",
              "      <td>1</td>\n",
              "      <td>-1</td>\n",
              "      <td>-1</td>\n",
              "      <td>-1</td>\n",
              "      <td>0</td>\n",
              "      <td>1</td>\n",
              "      <td>1</td>\n",
              "      <td>1</td>\n",
              "      <td>1</td>\n",
              "      <td>-1</td>\n",
              "      <td>-1</td>\n",
              "      <td>-1</td>\n",
              "      <td>-1</td>\n",
              "      <td>1</td>\n",
              "      <td>1</td>\n",
              "      <td>-1</td>\n",
              "      <td>-1</td>\n",
              "    </tr>\n",
              "    <tr>\n",
              "      <th>1</th>\n",
              "      <td>2</td>\n",
              "      <td>1</td>\n",
              "      <td>1</td>\n",
              "      <td>1</td>\n",
              "      <td>1</td>\n",
              "      <td>1</td>\n",
              "      <td>-1</td>\n",
              "      <td>0</td>\n",
              "      <td>1</td>\n",
              "      <td>-1</td>\n",
              "      <td>1</td>\n",
              "      <td>1</td>\n",
              "      <td>-1</td>\n",
              "      <td>1</td>\n",
              "      <td>0</td>\n",
              "      <td>-1</td>\n",
              "      <td>-1</td>\n",
              "      <td>1</td>\n",
              "      <td>1</td>\n",
              "      <td>0</td>\n",
              "      <td>1</td>\n",
              "      <td>1</td>\n",
              "      <td>1</td>\n",
              "      <td>1</td>\n",
              "      <td>-1</td>\n",
              "      <td>-1</td>\n",
              "      <td>0</td>\n",
              "      <td>-1</td>\n",
              "      <td>1</td>\n",
              "      <td>1</td>\n",
              "      <td>1</td>\n",
              "      <td>-1</td>\n",
              "    </tr>\n",
              "    <tr>\n",
              "      <th>2</th>\n",
              "      <td>3</td>\n",
              "      <td>1</td>\n",
              "      <td>0</td>\n",
              "      <td>1</td>\n",
              "      <td>1</td>\n",
              "      <td>1</td>\n",
              "      <td>-1</td>\n",
              "      <td>-1</td>\n",
              "      <td>-1</td>\n",
              "      <td>-1</td>\n",
              "      <td>1</td>\n",
              "      <td>1</td>\n",
              "      <td>-1</td>\n",
              "      <td>1</td>\n",
              "      <td>0</td>\n",
              "      <td>-1</td>\n",
              "      <td>-1</td>\n",
              "      <td>-1</td>\n",
              "      <td>-1</td>\n",
              "      <td>0</td>\n",
              "      <td>1</td>\n",
              "      <td>1</td>\n",
              "      <td>1</td>\n",
              "      <td>1</td>\n",
              "      <td>1</td>\n",
              "      <td>-1</td>\n",
              "      <td>1</td>\n",
              "      <td>-1</td>\n",
              "      <td>1</td>\n",
              "      <td>0</td>\n",
              "      <td>-1</td>\n",
              "      <td>-1</td>\n",
              "    </tr>\n",
              "    <tr>\n",
              "      <th>3</th>\n",
              "      <td>4</td>\n",
              "      <td>1</td>\n",
              "      <td>0</td>\n",
              "      <td>1</td>\n",
              "      <td>1</td>\n",
              "      <td>1</td>\n",
              "      <td>-1</td>\n",
              "      <td>-1</td>\n",
              "      <td>-1</td>\n",
              "      <td>1</td>\n",
              "      <td>1</td>\n",
              "      <td>1</td>\n",
              "      <td>-1</td>\n",
              "      <td>-1</td>\n",
              "      <td>0</td>\n",
              "      <td>0</td>\n",
              "      <td>-1</td>\n",
              "      <td>1</td>\n",
              "      <td>1</td>\n",
              "      <td>0</td>\n",
              "      <td>1</td>\n",
              "      <td>1</td>\n",
              "      <td>1</td>\n",
              "      <td>1</td>\n",
              "      <td>-1</td>\n",
              "      <td>-1</td>\n",
              "      <td>1</td>\n",
              "      <td>-1</td>\n",
              "      <td>1</td>\n",
              "      <td>-1</td>\n",
              "      <td>1</td>\n",
              "      <td>-1</td>\n",
              "    </tr>\n",
              "    <tr>\n",
              "      <th>4</th>\n",
              "      <td>5</td>\n",
              "      <td>1</td>\n",
              "      <td>0</td>\n",
              "      <td>-1</td>\n",
              "      <td>1</td>\n",
              "      <td>1</td>\n",
              "      <td>-1</td>\n",
              "      <td>1</td>\n",
              "      <td>1</td>\n",
              "      <td>-1</td>\n",
              "      <td>1</td>\n",
              "      <td>1</td>\n",
              "      <td>1</td>\n",
              "      <td>1</td>\n",
              "      <td>0</td>\n",
              "      <td>0</td>\n",
              "      <td>-1</td>\n",
              "      <td>1</td>\n",
              "      <td>1</td>\n",
              "      <td>0</td>\n",
              "      <td>-1</td>\n",
              "      <td>1</td>\n",
              "      <td>-1</td>\n",
              "      <td>1</td>\n",
              "      <td>-1</td>\n",
              "      <td>-1</td>\n",
              "      <td>0</td>\n",
              "      <td>-1</td>\n",
              "      <td>1</td>\n",
              "      <td>1</td>\n",
              "      <td>1</td>\n",
              "      <td>1</td>\n",
              "    </tr>\n",
              "  </tbody>\n",
              "</table>\n",
              "</div>"
            ],
            "text/plain": [
              "   id  having_IP_Address  ...  Statistical_report  Result\n",
              "0   1                 -1  ...                  -1      -1\n",
              "1   2                  1  ...                   1      -1\n",
              "2   3                  1  ...                  -1      -1\n",
              "3   4                  1  ...                   1      -1\n",
              "4   5                  1  ...                   1       1\n",
              "\n",
              "[5 rows x 32 columns]"
            ]
          },
          "metadata": {
            "tags": []
          },
          "execution_count": 49
        }
      ]
    },
    {
      "cell_type": "code",
      "metadata": {
        "id": "-V6Up5y5uNyi",
        "colab_type": "code",
        "colab": {}
      },
      "source": [
        "y = df['Result']"
      ],
      "execution_count": 0,
      "outputs": []
    },
    {
      "cell_type": "code",
      "metadata": {
        "id": "6j7vssY-vZQj",
        "colab_type": "code",
        "outputId": "49281acf-3ccb-4f8a-88c7-10b09ccc82f7",
        "colab": {
          "base_uri": "https://localhost:8080/",
          "height": 225
        }
      },
      "source": [
        "y=y.replace(-1,0)\n",
        "y"
      ],
      "execution_count": 51,
      "outputs": [
        {
          "output_type": "execute_result",
          "data": {
            "text/plain": [
              "0        0\n",
              "1        0\n",
              "2        0\n",
              "3        0\n",
              "4        1\n",
              "        ..\n",
              "11050    1\n",
              "11051    0\n",
              "11052    0\n",
              "11053    0\n",
              "11054    0\n",
              "Name: Result, Length: 11055, dtype: int64"
            ]
          },
          "metadata": {
            "tags": []
          },
          "execution_count": 51
        }
      ]
    },
    {
      "cell_type": "code",
      "metadata": {
        "id": "X6FtfTdWvaAz",
        "colab_type": "code",
        "colab": {}
      },
      "source": [
        "X = df.iloc[:,1:31]"
      ],
      "execution_count": 0,
      "outputs": []
    },
    {
      "cell_type": "code",
      "metadata": {
        "id": "AvBwlZ_mvqwG",
        "colab_type": "code",
        "outputId": "0804b24c-aa5b-4c9f-b2ab-9c7870ffa508",
        "colab": {
          "base_uri": "https://localhost:8080/",
          "height": 226
        }
      },
      "source": [
        "X.head()  "
      ],
      "execution_count": 54,
      "outputs": [
        {
          "output_type": "execute_result",
          "data": {
            "text/html": [
              "<div>\n",
              "<style scoped>\n",
              "    .dataframe tbody tr th:only-of-type {\n",
              "        vertical-align: middle;\n",
              "    }\n",
              "\n",
              "    .dataframe tbody tr th {\n",
              "        vertical-align: top;\n",
              "    }\n",
              "\n",
              "    .dataframe thead th {\n",
              "        text-align: right;\n",
              "    }\n",
              "</style>\n",
              "<table border=\"1\" class=\"dataframe\">\n",
              "  <thead>\n",
              "    <tr style=\"text-align: right;\">\n",
              "      <th></th>\n",
              "      <th>having_IP_Address</th>\n",
              "      <th>URL_Length</th>\n",
              "      <th>Shortining_Service</th>\n",
              "      <th>having_At_Symbol</th>\n",
              "      <th>double_slash_redirecting</th>\n",
              "      <th>Prefix_Suffix</th>\n",
              "      <th>having_Sub_Domain</th>\n",
              "      <th>SSLfinal_State</th>\n",
              "      <th>Domain_registeration_length</th>\n",
              "      <th>Favicon</th>\n",
              "      <th>port</th>\n",
              "      <th>HTTPS_token</th>\n",
              "      <th>Request_URL</th>\n",
              "      <th>URL_of_Anchor</th>\n",
              "      <th>Links_in_tags</th>\n",
              "      <th>SFH</th>\n",
              "      <th>Submitting_to_email</th>\n",
              "      <th>Abnormal_URL</th>\n",
              "      <th>Redirect</th>\n",
              "      <th>on_mouseover</th>\n",
              "      <th>RightClick</th>\n",
              "      <th>popUpWidnow</th>\n",
              "      <th>Iframe</th>\n",
              "      <th>age_of_domain</th>\n",
              "      <th>DNSRecord</th>\n",
              "      <th>web_traffic</th>\n",
              "      <th>Page_Rank</th>\n",
              "      <th>Google_Index</th>\n",
              "      <th>Links_pointing_to_page</th>\n",
              "      <th>Statistical_report</th>\n",
              "    </tr>\n",
              "  </thead>\n",
              "  <tbody>\n",
              "    <tr>\n",
              "      <th>0</th>\n",
              "      <td>-1</td>\n",
              "      <td>1</td>\n",
              "      <td>1</td>\n",
              "      <td>1</td>\n",
              "      <td>-1</td>\n",
              "      <td>-1</td>\n",
              "      <td>-1</td>\n",
              "      <td>-1</td>\n",
              "      <td>-1</td>\n",
              "      <td>1</td>\n",
              "      <td>1</td>\n",
              "      <td>-1</td>\n",
              "      <td>1</td>\n",
              "      <td>-1</td>\n",
              "      <td>1</td>\n",
              "      <td>-1</td>\n",
              "      <td>-1</td>\n",
              "      <td>-1</td>\n",
              "      <td>0</td>\n",
              "      <td>1</td>\n",
              "      <td>1</td>\n",
              "      <td>1</td>\n",
              "      <td>1</td>\n",
              "      <td>-1</td>\n",
              "      <td>-1</td>\n",
              "      <td>-1</td>\n",
              "      <td>-1</td>\n",
              "      <td>1</td>\n",
              "      <td>1</td>\n",
              "      <td>-1</td>\n",
              "    </tr>\n",
              "    <tr>\n",
              "      <th>1</th>\n",
              "      <td>1</td>\n",
              "      <td>1</td>\n",
              "      <td>1</td>\n",
              "      <td>1</td>\n",
              "      <td>1</td>\n",
              "      <td>-1</td>\n",
              "      <td>0</td>\n",
              "      <td>1</td>\n",
              "      <td>-1</td>\n",
              "      <td>1</td>\n",
              "      <td>1</td>\n",
              "      <td>-1</td>\n",
              "      <td>1</td>\n",
              "      <td>0</td>\n",
              "      <td>-1</td>\n",
              "      <td>-1</td>\n",
              "      <td>1</td>\n",
              "      <td>1</td>\n",
              "      <td>0</td>\n",
              "      <td>1</td>\n",
              "      <td>1</td>\n",
              "      <td>1</td>\n",
              "      <td>1</td>\n",
              "      <td>-1</td>\n",
              "      <td>-1</td>\n",
              "      <td>0</td>\n",
              "      <td>-1</td>\n",
              "      <td>1</td>\n",
              "      <td>1</td>\n",
              "      <td>1</td>\n",
              "    </tr>\n",
              "    <tr>\n",
              "      <th>2</th>\n",
              "      <td>1</td>\n",
              "      <td>0</td>\n",
              "      <td>1</td>\n",
              "      <td>1</td>\n",
              "      <td>1</td>\n",
              "      <td>-1</td>\n",
              "      <td>-1</td>\n",
              "      <td>-1</td>\n",
              "      <td>-1</td>\n",
              "      <td>1</td>\n",
              "      <td>1</td>\n",
              "      <td>-1</td>\n",
              "      <td>1</td>\n",
              "      <td>0</td>\n",
              "      <td>-1</td>\n",
              "      <td>-1</td>\n",
              "      <td>-1</td>\n",
              "      <td>-1</td>\n",
              "      <td>0</td>\n",
              "      <td>1</td>\n",
              "      <td>1</td>\n",
              "      <td>1</td>\n",
              "      <td>1</td>\n",
              "      <td>1</td>\n",
              "      <td>-1</td>\n",
              "      <td>1</td>\n",
              "      <td>-1</td>\n",
              "      <td>1</td>\n",
              "      <td>0</td>\n",
              "      <td>-1</td>\n",
              "    </tr>\n",
              "    <tr>\n",
              "      <th>3</th>\n",
              "      <td>1</td>\n",
              "      <td>0</td>\n",
              "      <td>1</td>\n",
              "      <td>1</td>\n",
              "      <td>1</td>\n",
              "      <td>-1</td>\n",
              "      <td>-1</td>\n",
              "      <td>-1</td>\n",
              "      <td>1</td>\n",
              "      <td>1</td>\n",
              "      <td>1</td>\n",
              "      <td>-1</td>\n",
              "      <td>-1</td>\n",
              "      <td>0</td>\n",
              "      <td>0</td>\n",
              "      <td>-1</td>\n",
              "      <td>1</td>\n",
              "      <td>1</td>\n",
              "      <td>0</td>\n",
              "      <td>1</td>\n",
              "      <td>1</td>\n",
              "      <td>1</td>\n",
              "      <td>1</td>\n",
              "      <td>-1</td>\n",
              "      <td>-1</td>\n",
              "      <td>1</td>\n",
              "      <td>-1</td>\n",
              "      <td>1</td>\n",
              "      <td>-1</td>\n",
              "      <td>1</td>\n",
              "    </tr>\n",
              "    <tr>\n",
              "      <th>4</th>\n",
              "      <td>1</td>\n",
              "      <td>0</td>\n",
              "      <td>-1</td>\n",
              "      <td>1</td>\n",
              "      <td>1</td>\n",
              "      <td>-1</td>\n",
              "      <td>1</td>\n",
              "      <td>1</td>\n",
              "      <td>-1</td>\n",
              "      <td>1</td>\n",
              "      <td>1</td>\n",
              "      <td>1</td>\n",
              "      <td>1</td>\n",
              "      <td>0</td>\n",
              "      <td>0</td>\n",
              "      <td>-1</td>\n",
              "      <td>1</td>\n",
              "      <td>1</td>\n",
              "      <td>0</td>\n",
              "      <td>-1</td>\n",
              "      <td>1</td>\n",
              "      <td>-1</td>\n",
              "      <td>1</td>\n",
              "      <td>-1</td>\n",
              "      <td>-1</td>\n",
              "      <td>0</td>\n",
              "      <td>-1</td>\n",
              "      <td>1</td>\n",
              "      <td>1</td>\n",
              "      <td>1</td>\n",
              "    </tr>\n",
              "  </tbody>\n",
              "</table>\n",
              "</div>"
            ],
            "text/plain": [
              "   having_IP_Address  URL_Length  ...  Links_pointing_to_page  Statistical_report\n",
              "0                 -1           1  ...                       1                  -1\n",
              "1                  1           1  ...                       1                   1\n",
              "2                  1           0  ...                       0                  -1\n",
              "3                  1           0  ...                      -1                   1\n",
              "4                  1           0  ...                       1                   1\n",
              "\n",
              "[5 rows x 30 columns]"
            ]
          },
          "metadata": {
            "tags": []
          },
          "execution_count": 54
        }
      ]
    },
    {
      "cell_type": "code",
      "metadata": {
        "id": "PnnoY2BGwPhn",
        "colab_type": "code",
        "colab": {}
      },
      "source": [
        "from sklearn.model_selection import train_test_split\n",
        "X_train, X_test, y_train, y_test = train_test_split(X, y, test_size=0.33, random_state=42)\n",
        "X_train,X_test = X_train.values,X_test.values\n",
        "y_train,y_test = y_train.values,y_test.values\n"
      ],
      "execution_count": 0,
      "outputs": []
    },
    {
      "cell_type": "code",
      "metadata": {
        "id": "9IIMxXN0caQj",
        "colab_type": "code",
        "colab": {}
      },
      "source": [
        ""
      ],
      "execution_count": 0,
      "outputs": []
    },
    {
      "cell_type": "code",
      "metadata": {
        "id": "OPORwCHdwfac",
        "colab_type": "code",
        "outputId": "b07402f0-0b7e-466e-f465-c82f3cc60282",
        "colab": {
          "base_uri": "https://localhost:8080/",
          "height": 1000
        }
      },
      "source": [
        "import tensorflow as tf\n",
        "\n",
        "model = tf.keras.models.Sequential([\n",
        "  tf.keras.layers.Dense(512, activation=tf.nn.relu),\n",
        "  tf.keras.layers.Dense(512, activation=tf.nn.relu),\n",
        "  tf.keras.layers.Dense(256, activation=tf.nn.relu),\n",
        "  tf.keras.layers.Dense(256, activation=tf.nn.relu),\n",
        "  tf.keras.layers.Dense(1, activation=tf.nn.sigmoid)\n",
        "])\n",
        "model.compile(optimizer='adam',\n",
        "              loss='binary_crossentropy',\n",
        "              metrics=['accuracy'])\n",
        "\n",
        "history = model.fit(X_train, y_train, epochs=40)\n",
        "model.evaluate(X_test, y_test)"
      ],
      "execution_count": 73,
      "outputs": [
        {
          "output_type": "stream",
          "text": [
            "Epoch 1/40\n",
            "232/232 [==============================] - 2s 9ms/step - loss: 0.1930 - accuracy: 0.9216\n",
            "Epoch 2/40\n",
            "232/232 [==============================] - 2s 9ms/step - loss: 0.1402 - accuracy: 0.9406\n",
            "Epoch 3/40\n",
            "232/232 [==============================] - 2s 9ms/step - loss: 0.1237 - accuracy: 0.9498\n",
            "Epoch 4/40\n",
            "232/232 [==============================] - 2s 9ms/step - loss: 0.1051 - accuracy: 0.9556\n",
            "Epoch 5/40\n",
            "232/232 [==============================] - 2s 8ms/step - loss: 0.0905 - accuracy: 0.9623\n",
            "Epoch 6/40\n",
            "232/232 [==============================] - 2s 9ms/step - loss: 0.0840 - accuracy: 0.9634\n",
            "Epoch 7/40\n",
            "232/232 [==============================] - 2s 9ms/step - loss: 0.0751 - accuracy: 0.9695\n",
            "Epoch 8/40\n",
            "232/232 [==============================] - 2s 8ms/step - loss: 0.0716 - accuracy: 0.9706\n",
            "Epoch 9/40\n",
            "232/232 [==============================] - 2s 7ms/step - loss: 0.0648 - accuracy: 0.9734\n",
            "Epoch 10/40\n",
            "232/232 [==============================] - 2s 8ms/step - loss: 0.0648 - accuracy: 0.9748\n",
            "Epoch 11/40\n",
            "232/232 [==============================] - 2s 9ms/step - loss: 0.0559 - accuracy: 0.9746\n",
            "Epoch 12/40\n",
            "232/232 [==============================] - 2s 9ms/step - loss: 0.0584 - accuracy: 0.9742\n",
            "Epoch 13/40\n",
            "232/232 [==============================] - 2s 9ms/step - loss: 0.0531 - accuracy: 0.9773\n",
            "Epoch 14/40\n",
            "232/232 [==============================] - 2s 9ms/step - loss: 0.0506 - accuracy: 0.9779\n",
            "Epoch 15/40\n",
            "232/232 [==============================] - 2s 9ms/step - loss: 0.0495 - accuracy: 0.9807\n",
            "Epoch 16/40\n",
            "232/232 [==============================] - 2s 10ms/step - loss: 0.0503 - accuracy: 0.9800\n",
            "Epoch 17/40\n",
            "232/232 [==============================] - 2s 8ms/step - loss: 0.0486 - accuracy: 0.9816\n",
            "Epoch 18/40\n",
            "232/232 [==============================] - 2s 9ms/step - loss: 0.0420 - accuracy: 0.9824\n",
            "Epoch 19/40\n",
            "232/232 [==============================] - 2s 9ms/step - loss: 0.0437 - accuracy: 0.9800\n",
            "Epoch 20/40\n",
            "232/232 [==============================] - 2s 9ms/step - loss: 0.0440 - accuracy: 0.9823\n",
            "Epoch 21/40\n",
            "232/232 [==============================] - 2s 9ms/step - loss: 0.0373 - accuracy: 0.9834\n",
            "Epoch 22/40\n",
            "232/232 [==============================] - 2s 9ms/step - loss: 0.0345 - accuracy: 0.9850\n",
            "Epoch 23/40\n",
            "232/232 [==============================] - 2s 9ms/step - loss: 0.0361 - accuracy: 0.9838\n",
            "Epoch 24/40\n",
            "232/232 [==============================] - 2s 9ms/step - loss: 0.0375 - accuracy: 0.9830\n",
            "Epoch 25/40\n",
            "232/232 [==============================] - 2s 9ms/step - loss: 0.0374 - accuracy: 0.9850\n",
            "Epoch 26/40\n",
            "232/232 [==============================] - 2s 9ms/step - loss: 0.0463 - accuracy: 0.9833\n",
            "Epoch 27/40\n",
            "232/232 [==============================] - 2s 10ms/step - loss: 0.0313 - accuracy: 0.9861\n",
            "Epoch 28/40\n",
            "232/232 [==============================] - 2s 10ms/step - loss: 0.0371 - accuracy: 0.9847\n",
            "Epoch 29/40\n",
            "232/232 [==============================] - 2s 10ms/step - loss: 0.0380 - accuracy: 0.9851\n",
            "Epoch 30/40\n",
            "232/232 [==============================] - 2s 10ms/step - loss: 0.0350 - accuracy: 0.9861\n",
            "Epoch 31/40\n",
            "232/232 [==============================] - 2s 10ms/step - loss: 0.0276 - accuracy: 0.9865\n",
            "Epoch 32/40\n",
            "232/232 [==============================] - 2s 9ms/step - loss: 0.0391 - accuracy: 0.9831\n",
            "Epoch 33/40\n",
            "232/232 [==============================] - 2s 9ms/step - loss: 0.0386 - accuracy: 0.9842\n",
            "Epoch 34/40\n",
            "232/232 [==============================] - 2s 9ms/step - loss: 0.0314 - accuracy: 0.9854\n",
            "Epoch 35/40\n",
            "232/232 [==============================] - 2s 9ms/step - loss: 0.0288 - accuracy: 0.9870\n",
            "Epoch 36/40\n",
            "232/232 [==============================] - 2s 10ms/step - loss: 0.0238 - accuracy: 0.9881\n",
            "Epoch 37/40\n",
            "232/232 [==============================] - 2s 9ms/step - loss: 0.0241 - accuracy: 0.9880\n",
            "Epoch 38/40\n",
            "232/232 [==============================] - 2s 9ms/step - loss: 0.0435 - accuracy: 0.9830\n",
            "Epoch 39/40\n",
            "232/232 [==============================] - 2s 9ms/step - loss: 0.0368 - accuracy: 0.9847\n",
            "Epoch 40/40\n",
            "232/232 [==============================] - 2s 9ms/step - loss: 0.0274 - accuracy: 0.9878\n",
            "115/115 [==============================] - 0s 3ms/step - loss: 0.1711 - accuracy: 0.9663\n"
          ],
          "name": "stdout"
        },
        {
          "output_type": "execute_result",
          "data": {
            "text/plain": [
              "[0.1711203008890152, 0.966292142868042]"
            ]
          },
          "metadata": {
            "tags": []
          },
          "execution_count": 73
        }
      ]
    },
    {
      "cell_type": "code",
      "metadata": {
        "id": "UeTty2p3TL6p",
        "colab_type": "code",
        "colab": {
          "base_uri": "https://localhost:8080/",
          "height": 312
        },
        "outputId": "452de124-90a7-467e-bd21-a6ca1aba2b97"
      },
      "source": [
        "print(history.history.keys())\n",
        "plt.plot(history.history['accuracy'])\n",
        "#plt.plot(history.history['val_accuracy'])\n",
        "plt.title('model accuracy')\n",
        "plt.ylabel('accuracy')\n",
        "plt.xlabel('epoch')\n",
        "plt.legend(['train', 'test'], loc='upper left')\n",
        "plt.show()"
      ],
      "execution_count": 74,
      "outputs": [
        {
          "output_type": "stream",
          "text": [
            "dict_keys(['loss', 'accuracy'])\n"
          ],
          "name": "stdout"
        },
        {
          "output_type": "display_data",
          "data": {
            "image/png": "[encoded data removed]",
            "text/plain": [
              "<Figure size 432x288 with 1 Axes>"
            ]
          },
          "metadata": {
            "tags": [],
            "needs_background": "light"
          }
        }
      ]
    },
    {
      "cell_type": "code",
      "metadata": {
        "id": "yUXoS94VTePh",
        "colab_type": "code",
        "colab": {
          "base_uri": "https://localhost:8080/",
          "height": 295
        },
        "outputId": "75b1f9fc-caca-4a3e-eded-d63a3eaed372"
      },
      "source": [
        "plt.plot(history.history['loss'])\n",
        "#plt.plot(history.history['val_loss'])\n",
        "plt.title('model loss')\n",
        "plt.ylabel('loss')\n",
        "plt.xlabel('epoch')\n",
        "plt.legend(['train', 'test'], loc='upper left')\n",
        "plt.show()"
      ],
      "execution_count": 75,
      "outputs": [
        {
          "output_type": "display_data",
          "data": {
            "image/png": "[encoded data removed]",
            "text/plain": [
              "<Figure size 432x288 with 1 Axes>"
            ]
          },
          "metadata": {
            "tags": [],
            "needs_background": "light"
          }
        }
      ]
    },
    {
      "cell_type": "code",
      "metadata": {
        "id": "9TJd0xiSAQLB",
        "colab_type": "code",
        "colab": {}
      },
      "source": [
        "ypred = model.predict(X_test)"
      ],
      "execution_count": 0,
      "outputs": []
    },
    {
      "cell_type": "code",
      "metadata": {
        "id": "Gamam1VjAU2y",
        "colab_type": "code",
        "outputId": "3dbf6a3a-431b-4538-eb81-2028fbc59ea5",
        "colab": {
          "base_uri": "https://localhost:8080/",
          "height": 436
        }
      },
      "source": [
        "from sklearn.metrics import confusion_matrix\n",
        "import numpy as np\n",
        "def plot_confusion_matrix(cm, classes,\n",
        "                          normalize=True,\n",
        "                          title='Confusion matrix',\n",
        "                          cmap=plt.cm.Blues):\n",
        "    \"\"\"\n",
        "    This function prints and plots the confusion matrix.\n",
        "    Normalization can be applied by setting `normalize=True`.\n",
        "    \"\"\"\n",
        "    if normalize:\n",
        "        cm = cm.astype('float') / cm.sum(axis=1)[:, np.newaxis]\n",
        "        print(\"Normalized confusion matrix\")\n",
        "    else:\n",
        "        print('Confusion matrix, without normalization')\n",
        "\n",
        "    print(cm)\n",
        "\n",
        "    plt.imshow(cm, interpolation='nearest', cmap=cmap)\n",
        "    plt.title(title)\n",
        "    plt.colorbar()\n",
        "    tick_marks = np.arange(len(classes))\n",
        "    plt.xticks(tick_marks, classes, rotation=45)\n",
        "    plt.yticks(tick_marks, classes)\n",
        "\n",
        "    fmt = '.2f' if normalize else 'd'\n",
        "    thresh = cm.max() / 2.\n",
        "    #for i, j in itertools.product(range(cm.shape[0]), range(cm.shape[1])):\n",
        "    for i in range(cm.shape[0]):\n",
        "      for j in range(cm.shape[1]):\n",
        "        plt.text(j, i, format(cm[i, j], fmt),\n",
        "                 horizontalalignment=\"center\",\n",
        "                 color=\"white\" if cm[i, j] > thresh else \"black\")\n",
        "\n",
        "    plt.ylabel('True label')\n",
        "    plt.xlabel('Predicted label')\n",
        "    plt.tight_layout()\n",
        "\n",
        "\n",
        "# Compute confusion matrix\n",
        "cnf_matrix = confusion_matrix(y_test, ypred.round())\n",
        "res = cnf_matrix.diagonal()/cnf_matrix.sum(axis=1)\n",
        "prec = cnf_matrix[1][1]/(cnf_matrix[1][1] + cnf_matrix[0][1])\n",
        "rec = cnf_matrix[1][1]/(cnf_matrix[1][1]+cnf_matrix[1][0])\n",
        "f1_score = (2*prec*rec)/(prec + rec)\n",
        "print(\"Precision :\",prec)#cnf_matrix[][])\n",
        "print(\"Recall : \" ,rec)\n",
        "print(\"F1-Score : \",f1_score)\n",
        "print(\"Not Phished accuracy : \",res[0]*100,\"%\")\n",
        "print(\"Fished Accuracy : \",res[1]*100,\"%\")\n",
        "#print(\"Overall Accuracy :\",((res[0]+res[1])/2)*100,\"%\")\n",
        "np.set_printoptions(precision=2)\n",
        "\n",
        "# Plot non-normalized confusion matrix\n",
        "plt.figure()\n",
        "plot_confusion_matrix(cnf_matrix, classes=['Not Phished','Phished'],\n",
        "                      title='Confusion matrix, without normalization')\n"
      ],
      "execution_count": 71,
      "outputs": [
        {
          "output_type": "stream",
          "text": [
            "Precision : 0.9620608899297424\n",
            "Recall :  0.9856046065259118\n",
            "F1-Score :  0.9736904479734534\n",
            "Not Phished accuracy :  94.82428115015973 %\n",
            "Fished Accuracy :  98.56046065259117 %\n",
            "Normalized confusion matrix\n",
            "[[0.95 0.05]\n",
            " [0.01 0.99]]\n"
          ],
          "name": "stdout"
        },
        {
          "output_type": "display_data",
          "data": {
            "image/png": "[encoded data removed]",
            "text/plain": [
              "<Figure size 432x288 with 2 Axes>"
            ]
          },
          "metadata": {
            "tags": [],
            "needs_background": "light"
          }
        }
      ]
    },
    {
      "cell_type": "code",
      "metadata": {
        "id": "Yj89H99eO8Oq",
        "colab_type": "code",
        "colab": {}
      },
      "source": [
        "#With RMSProp Optimizer\n",
        "df = pd.read_csv('csv_result-Phishing_features.csv')"
      ],
      "execution_count": 0,
      "outputs": []
    },
    {
      "cell_type": "code",
      "metadata": {
        "id": "sxZHdKZu9_kq",
        "colab_type": "code",
        "outputId": "a1da78e1-d745-4cca-c3e8-95fb5f81295b",
        "colab": {
          "base_uri": "https://localhost:8080/",
          "height": 1000
        }
      },
      "source": [
        "import tensorflow as tf\n",
        "\n",
        "model = tf.keras.models.Sequential([\n",
        "  tf.keras.layers.Dense(512, activation=tf.nn.relu),\n",
        "  tf.keras.layers.Dense(512, activation=tf.nn.relu),\n",
        "  tf.keras.layers.Dense(256, activation=tf.nn.relu),\n",
        "  tf.keras.layers.Dense(256, activation=tf.nn.relu),\n",
        "  tf.keras.layers.Dense(1, activation=tf.nn.sigmoid)\n",
        "])\n",
        "model.compile(optimizer='rmsprop',\n",
        "              loss='binary_crossentropy',\n",
        "              metrics=['accuracy'])\n",
        "\n",
        "history1 = model.fit(X_train, y_train, epochs=40)\n",
        "\n",
        "model.evaluate(X_test, y_test)"
      ],
      "execution_count": 77,
      "outputs": [
        {
          "output_type": "stream",
          "text": [
            "Epoch 1/40\n",
            "232/232 [==============================] - 2s 8ms/step - loss: 0.2084 - accuracy: 0.9166\n",
            "Epoch 2/40\n",
            "232/232 [==============================] - 2s 8ms/step - loss: 0.1480 - accuracy: 0.9422\n",
            "Epoch 3/40\n",
            "232/232 [==============================] - 2s 8ms/step - loss: 0.1232 - accuracy: 0.9504\n",
            "Epoch 4/40\n",
            "232/232 [==============================] - 2s 8ms/step - loss: 0.1161 - accuracy: 0.9530\n",
            "Epoch 5/40\n",
            "232/232 [==============================] - 2s 8ms/step - loss: 0.1032 - accuracy: 0.9588\n",
            "Epoch 6/40\n",
            "232/232 [==============================] - 2s 8ms/step - loss: 0.0942 - accuracy: 0.9608\n",
            "Epoch 7/40\n",
            "232/232 [==============================] - 2s 8ms/step - loss: 0.0920 - accuracy: 0.9653\n",
            "Epoch 8/40\n",
            "232/232 [==============================] - 2s 8ms/step - loss: 0.0861 - accuracy: 0.9653\n",
            "Epoch 9/40\n",
            "232/232 [==============================] - 2s 8ms/step - loss: 0.0847 - accuracy: 0.9668\n",
            "Epoch 10/40\n",
            "232/232 [==============================] - 2s 8ms/step - loss: 0.0821 - accuracy: 0.9679\n",
            "Epoch 11/40\n",
            "232/232 [==============================] - 2s 8ms/step - loss: 0.0772 - accuracy: 0.9703\n",
            "Epoch 12/40\n",
            "232/232 [==============================] - 2s 8ms/step - loss: 0.0709 - accuracy: 0.9719\n",
            "Epoch 13/40\n",
            "232/232 [==============================] - 2s 8ms/step - loss: 0.0681 - accuracy: 0.9735\n",
            "Epoch 14/40\n",
            "232/232 [==============================] - 2s 8ms/step - loss: 0.0708 - accuracy: 0.9729\n",
            "Epoch 15/40\n",
            "232/232 [==============================] - 2s 8ms/step - loss: 0.0725 - accuracy: 0.9739\n",
            "Epoch 16/40\n",
            "232/232 [==============================] - 2s 8ms/step - loss: 0.0679 - accuracy: 0.9745\n",
            "Epoch 17/40\n",
            "232/232 [==============================] - 2s 8ms/step - loss: 0.0622 - accuracy: 0.9750\n",
            "Epoch 18/40\n",
            "232/232 [==============================] - 2s 8ms/step - loss: 0.0638 - accuracy: 0.9738\n",
            "Epoch 19/40\n",
            "232/232 [==============================] - 2s 8ms/step - loss: 0.0649 - accuracy: 0.9760\n",
            "Epoch 20/40\n",
            "232/232 [==============================] - 2s 8ms/step - loss: 0.0580 - accuracy: 0.9769\n",
            "Epoch 21/40\n",
            "232/232 [==============================] - 2s 8ms/step - loss: 0.0689 - accuracy: 0.9765\n",
            "Epoch 22/40\n",
            "232/232 [==============================] - 2s 8ms/step - loss: 0.0579 - accuracy: 0.9764\n",
            "Epoch 23/40\n",
            "232/232 [==============================] - 2s 8ms/step - loss: 0.0665 - accuracy: 0.9764\n",
            "Epoch 24/40\n",
            "232/232 [==============================] - 2s 8ms/step - loss: 0.0632 - accuracy: 0.9791\n",
            "Epoch 25/40\n",
            "232/232 [==============================] - 2s 8ms/step - loss: 0.0594 - accuracy: 0.9795\n",
            "Epoch 26/40\n",
            "232/232 [==============================] - 2s 8ms/step - loss: 0.0566 - accuracy: 0.9779\n",
            "Epoch 27/40\n",
            "232/232 [==============================] - 2s 8ms/step - loss: 0.0610 - accuracy: 0.9777\n",
            "Epoch 28/40\n",
            "232/232 [==============================] - 2s 8ms/step - loss: 0.0566 - accuracy: 0.9800\n",
            "Epoch 29/40\n",
            "232/232 [==============================] - 2s 8ms/step - loss: 0.0629 - accuracy: 0.9811\n",
            "Epoch 30/40\n",
            "232/232 [==============================] - 2s 8ms/step - loss: 0.0534 - accuracy: 0.9793\n",
            "Epoch 31/40\n",
            "232/232 [==============================] - 2s 8ms/step - loss: 0.0630 - accuracy: 0.9797\n",
            "Epoch 32/40\n",
            "232/232 [==============================] - 2s 8ms/step - loss: 0.0535 - accuracy: 0.9792\n",
            "Epoch 33/40\n",
            "232/232 [==============================] - 2s 8ms/step - loss: 0.0579 - accuracy: 0.9796\n",
            "Epoch 34/40\n",
            "232/232 [==============================] - 2s 8ms/step - loss: 0.0625 - accuracy: 0.9815\n",
            "Epoch 35/40\n",
            "232/232 [==============================] - 2s 8ms/step - loss: 0.0554 - accuracy: 0.9784\n",
            "Epoch 36/40\n",
            "232/232 [==============================] - 2s 8ms/step - loss: 0.0576 - accuracy: 0.9793\n",
            "Epoch 37/40\n",
            "232/232 [==============================] - 2s 8ms/step - loss: 0.0598 - accuracy: 0.9811\n",
            "Epoch 38/40\n",
            "232/232 [==============================] - 2s 8ms/step - loss: 0.0608 - accuracy: 0.9807\n",
            "Epoch 39/40\n",
            "232/232 [==============================] - 2s 8ms/step - loss: 0.0604 - accuracy: 0.9793\n",
            "Epoch 40/40\n",
            "232/232 [==============================] - 2s 8ms/step - loss: 0.0702 - accuracy: 0.9802\n",
            "115/115 [==============================] - 0s 2ms/step - loss: 0.3788 - accuracy: 0.9652\n"
          ],
          "name": "stdout"
        },
        {
          "output_type": "execute_result",
          "data": {
            "text/plain": [
              "[0.37878289818763733, 0.9651959538459778]"
            ]
          },
          "metadata": {
            "tags": []
          },
          "execution_count": 77
        }
      ]
    },
    {
      "cell_type": "code",
      "metadata": {
        "id": "r-SGeZ2SRszB",
        "colab_type": "code",
        "colab": {
          "base_uri": "https://localhost:8080/",
          "height": 312
        },
        "outputId": "8a80dc9c-ea98-43c2-d526-3848427de170"
      },
      "source": [
        "print(history1.history.keys())\n",
        "plt.plot(history1.history['accuracy'])\n",
        "#plt.plot(history.history['val_accuracy'])\n",
        "plt.title('model accuracy')\n",
        "plt.ylabel('accuracy')\n",
        "plt.xlabel('epoch')\n",
        "plt.legend(['train', 'test'], loc='upper left')\n",
        "plt.show()"
      ],
      "execution_count": 78,
      "outputs": [
        {
          "output_type": "stream",
          "text": [
            "dict_keys(['loss', 'accuracy'])\n"
          ],
          "name": "stdout"
        },
        {
          "output_type": "display_data",
          "data": {
            "image/png": "[encoded data removed]",
            "text/plain": [
              "<Figure size 432x288 with 1 Axes>"
            ]
          },
          "metadata": {
            "tags": [],
            "needs_background": "light"
          }
        }
      ]
    },
    {
      "cell_type": "code",
      "metadata": {
        "id": "WpphzybxSG85",
        "colab_type": "code",
        "colab": {
          "base_uri": "https://localhost:8080/",
          "height": 295
        },
        "outputId": "35f7f7ed-30d4-4169-f278-f03aff36b8ac"
      },
      "source": [
        "plt.plot(history1.history['loss'])\n",
        "#plt.plot(history.history['val_loss'])\n",
        "plt.title('model loss')\n",
        "plt.ylabel('loss')\n",
        "plt.xlabel('epoch')\n",
        "plt.legend(['train', 'test'], loc='upper left')\n",
        "plt.show()"
      ],
      "execution_count": 79,
      "outputs": [
        {
          "output_type": "display_data",
          "data": {
            "image/png": "[encoded data removed]",
            "text/plain": [
              "<Figure size 432x288 with 1 Axes>"
            ]
          },
          "metadata": {
            "tags": [],
            "needs_background": "light"
          }
        }
      ]
    },
    {
      "cell_type": "code",
      "metadata": {
        "id": "J91Gx98LO_V_",
        "colab_type": "code",
        "colab": {}
      },
      "source": [
        "y_pred2 = model.predict(X_test)"
      ],
      "execution_count": 0,
      "outputs": []
    },
    {
      "cell_type": "code",
      "metadata": {
        "id": "y7CkN1wjO91G",
        "colab_type": "code",
        "colab": {
          "base_uri": "https://localhost:8080/",
          "height": 453
        },
        "outputId": "7ecb1b78-affa-4b5a-cc71-5ad14ce06d7f"
      },
      "source": [
        "from sklearn.metrics import confusion_matrix\n",
        "import numpy as np\n",
        "def plot_confusion_matrix(cm, classes,\n",
        "                          normalize=True,\n",
        "                          title='Confusion matrix',\n",
        "                          cmap=plt.cm.Blues):\n",
        "    \"\"\"\n",
        "    This function prints and plots the confusion matrix.\n",
        "    Normalization can be applied by setting `normalize=True`.\n",
        "    \"\"\"\n",
        "    if normalize:\n",
        "        cm = cm.astype('float') / cm.sum(axis=1)[:, np.newaxis]\n",
        "        print(\"Normalized confusion matrix\")\n",
        "    else:\n",
        "        print('Confusion matrix, without normalization')\n",
        "\n",
        "    print(cm)\n",
        "\n",
        "    plt.imshow(cm, interpolation='nearest', cmap=cmap)\n",
        "    plt.title(title)\n",
        "    plt.colorbar()\n",
        "    tick_marks = np.arange(len(classes))\n",
        "    plt.xticks(tick_marks, classes, rotation=45)\n",
        "    plt.yticks(tick_marks, classes)\n",
        "\n",
        "    fmt = '.2f' if normalize else 'd'\n",
        "    thresh = cm.max() / 2.\n",
        "    #for i, j in itertools.product(range(cm.shape[0]), range(cm.shape[1])):\n",
        "    for i in range(cm.shape[0]):\n",
        "      for j in range(cm.shape[1]):\n",
        "        plt.text(j, i, format(cm[i, j], fmt),\n",
        "                 horizontalalignment=\"center\",\n",
        "                 color=\"white\" if cm[i, j] > thresh else \"black\")\n",
        "\n",
        "    plt.ylabel('True label')\n",
        "    plt.xlabel('Predicted label')\n",
        "    plt.tight_layout()\n",
        "\n",
        "\n",
        "# Compute confusion matrix\n",
        "cnf_matrix1 = confusion_matrix(y_test, y_pred2.round())\n",
        "res1 = cnf_matrix1.diagonal()/cnf_matrix1.sum(axis=1)\n",
        "prec1 = cnf_matrix1[1][1]/(cnf_matrix1[1][1] + cnf_matrix1[0][1])\n",
        "rec1 = cnf_matrix1[1][1]/(cnf_matrix1[1][1]+cnf_matrix1[1][0])\n",
        "f1_score1 = (2*prec1*rec1)/(prec1 + rec1)\n",
        "print(\"Precision :\",prec1)#cnf_matrix[][])\n",
        "print(\"Recall : \" ,rec1)\n",
        "print(\"F1-Score : \",f1_score1)\n",
        "print(\"Not Phished accuracy : \",res1[0]*100,\"%\")\n",
        "print(\"Fished Accuracy : \",res1[1]*100,\"%\")\n",
        "print(\"Overall Accuracy :\",((res1[0]+res1[1])/2)*100,\"%\")\n",
        "np.set_printoptions(precision=2)\n",
        "\n",
        "# Plot non-normalized confusion matrix\n",
        "plt.figure()\n",
        "plot_confusion_matrix(cnf_matrix, classes=['Not Phished','Phished'],\n",
        "                      title='Confusion matrix, without normalization')\n"
      ],
      "execution_count": 66,
      "outputs": [
        {
          "output_type": "stream",
          "text": [
            "Precision : 0.9430555555555555\n",
            "Recall :  0.977447216890595\n",
            "F1-Score :  0.9599434495758719\n",
            "Not Phished accuracy :  92.1405750798722 %\n",
            "Fished Accuracy :  97.7447216890595 %\n",
            "Overall Accuracy : 94.94264838446584 %\n",
            "Normalized confusion matrix\n",
            "[[0.95 0.05]\n",
            " [0.01 0.99]]\n"
          ],
          "name": "stdout"
        },
        {
          "output_type": "display_data",
          "data": {
            "image/png": "[encoded data removed]",
            "text/plain": [
              "<Figure size 432x288 with 2 Axes>"
            ]
          },
          "metadata": {
            "tags": [],
            "needs_background": "light"
          }
        }
      ]
    },
    {
      "cell_type": "code",
      "metadata": {
        "id": "TXCIlpfwTu-a",
        "colab_type": "code",
        "colab": {}
      },
      "source": [
        "#With SGD Optimizer\n",
        "df = pd.read_csv('csv_result-Phishing_features.csv')"
      ],
      "execution_count": 0,
      "outputs": []
    },
    {
      "cell_type": "code",
      "metadata": {
        "id": "2BRbLoUz-aG9",
        "colab_type": "code",
        "outputId": "8bcb4b9e-d611-4b9b-ad86-6b62d983d607",
        "colab": {
          "base_uri": "https://localhost:8080/",
          "height": 1000
        }
      },
      "source": [
        "import tensorflow as tf\n",
        "\n",
        "model = tf.keras.models.Sequential([\n",
        "  tf.keras.layers.Dense(512, activation=tf.nn.relu),\n",
        "  tf.keras.layers.Dense(512, activation=tf.nn.relu),\n",
        "  tf.keras.layers.Dense(256, activation=tf.nn.relu),\n",
        "  tf.keras.layers.Dense(256, activation=tf.nn.relu),\n",
        "  tf.keras.layers.Dense(1, activation=tf.nn.sigmoid)\n",
        "])\n",
        "model.compile(optimizer='sgd',\n",
        "              loss='binary_crossentropy',\n",
        "              metrics=['accuracy'])\n",
        "\n",
        "history2 = model.fit(X_train, y_train, epochs=40)\n",
        "model.evaluate(X_test, y_test)"
      ],
      "execution_count": 0,
      "outputs": [
        {
          "output_type": "stream",
          "text": [
            "Epoch 1/30\n",
            "232/232 [==============================] - 2s 7ms/step - loss: 0.5157 - accuracy: 0.8100\n",
            "Epoch 2/30\n",
            "232/232 [==============================] - 2s 7ms/step - loss: 0.2402 - accuracy: 0.9216\n",
            "Epoch 3/30\n",
            "232/232 [==============================] - 2s 7ms/step - loss: 0.1960 - accuracy: 0.9286\n",
            "Epoch 4/30\n",
            "232/232 [==============================] - 2s 7ms/step - loss: 0.1807 - accuracy: 0.9325\n",
            "Epoch 5/30\n",
            "232/232 [==============================] - 1s 6ms/step - loss: 0.1716 - accuracy: 0.9348\n",
            "Epoch 6/30\n",
            "232/232 [==============================] - 1s 6ms/step - loss: 0.1649 - accuracy: 0.9363\n",
            "Epoch 7/30\n",
            "232/232 [==============================] - 1s 6ms/step - loss: 0.1602 - accuracy: 0.9375\n",
            "Epoch 8/30\n",
            "232/232 [==============================] - 2s 7ms/step - loss: 0.1554 - accuracy: 0.9391\n",
            "Epoch 9/30\n",
            "232/232 [==============================] - 2s 7ms/step - loss: 0.1504 - accuracy: 0.9414\n",
            "Epoch 10/30\n",
            "232/232 [==============================] - 2s 7ms/step - loss: 0.1461 - accuracy: 0.9436\n",
            "Epoch 11/30\n",
            "232/232 [==============================] - 1s 6ms/step - loss: 0.1398 - accuracy: 0.9453\n",
            "Epoch 12/30\n",
            "232/232 [==============================] - 2s 7ms/step - loss: 0.1363 - accuracy: 0.9471\n",
            "Epoch 13/30\n",
            "232/232 [==============================] - 2s 7ms/step - loss: 0.1326 - accuracy: 0.9476\n",
            "Epoch 14/30\n",
            "232/232 [==============================] - 2s 7ms/step - loss: 0.1289 - accuracy: 0.9476\n",
            "Epoch 15/30\n",
            "232/232 [==============================] - 2s 7ms/step - loss: 0.1234 - accuracy: 0.9504\n",
            "Epoch 16/30\n",
            "232/232 [==============================] - 2s 7ms/step - loss: 0.1188 - accuracy: 0.9530\n",
            "Epoch 17/30\n",
            "232/232 [==============================] - 2s 7ms/step - loss: 0.1161 - accuracy: 0.9540\n",
            "Epoch 18/30\n",
            "232/232 [==============================] - 1s 6ms/step - loss: 0.1130 - accuracy: 0.9567\n",
            "Epoch 19/30\n",
            "232/232 [==============================] - 2s 7ms/step - loss: 0.1075 - accuracy: 0.9569\n",
            "Epoch 20/30\n",
            "232/232 [==============================] - 2s 6ms/step - loss: 0.1079 - accuracy: 0.9568\n",
            "Epoch 21/30\n",
            "232/232 [==============================] - 2s 7ms/step - loss: 0.1017 - accuracy: 0.9608\n",
            "Epoch 22/30\n",
            "232/232 [==============================] - 2s 7ms/step - loss: 0.0971 - accuracy: 0.9623\n",
            "Epoch 23/30\n",
            "232/232 [==============================] - 2s 7ms/step - loss: 0.0966 - accuracy: 0.9619\n",
            "Epoch 24/30\n",
            "232/232 [==============================] - 1s 6ms/step - loss: 0.0917 - accuracy: 0.9633\n",
            "Epoch 25/30\n",
            "232/232 [==============================] - 1s 6ms/step - loss: 0.0924 - accuracy: 0.9637\n",
            "Epoch 26/30\n",
            "232/232 [==============================] - 2s 7ms/step - loss: 0.0879 - accuracy: 0.9653\n",
            "Epoch 27/30\n",
            "232/232 [==============================] - 2s 6ms/step - loss: 0.0853 - accuracy: 0.9677\n",
            "Epoch 28/30\n",
            "232/232 [==============================] - 2s 7ms/step - loss: 0.0866 - accuracy: 0.9649\n",
            "Epoch 29/30\n",
            "232/232 [==============================] - 2s 7ms/step - loss: 0.0816 - accuracy: 0.9666\n",
            "Epoch 30/30\n",
            "232/232 [==============================] - 2s 7ms/step - loss: 0.0789 - accuracy: 0.9679\n",
            "115/115 [==============================] - 0s 2ms/step - loss: 0.1261 - accuracy: 0.9490\n"
          ],
          "name": "stdout"
        },
        {
          "output_type": "execute_result",
          "data": {
            "text/plain": [
              "[0.1260574460029602, 0.9490271210670471]"
            ]
          },
          "metadata": {
            "tags": []
          },
          "execution_count": 18
        }
      ]
    },
    {
      "cell_type": "code",
      "metadata": {
        "colab_type": "code",
        "outputId": "a09fcc98-9b29-4b80-d82c-65268d73771a",
        "id": "4_Ff06vVT8Uh",
        "colab": {
          "base_uri": "https://localhost:8080/",
          "height": 312
        }
      },
      "source": [
        "print(history2.history.keys())\n",
        "plt.plot(history2.history['accuracy'])\n",
        "#plt.plot(history.history['val_accuracy'])\n",
        "plt.title('model accuracy')\n",
        "plt.ylabel('accuracy')\n",
        "plt.xlabel('epoch')\n",
        "plt.legend(['train', 'test'], loc='upper left')\n",
        "plt.show()"
      ],
      "execution_count": 0,
      "outputs": [
        {
          "output_type": "stream",
          "text": [
            "dict_keys(['loss', 'accuracy'])\n"
          ],
          "name": "stdout"
        },
        {
          "output_type": "display_data",
          "data": {
            "image/png": "[encoded data removed]",
            "text/plain": [
              "<Figure size 432x288 with 1 Axes>"
            ]
          },
          "metadata": {
            "tags": [],
            "needs_background": "light"
          }
        }
      ]
    },
    {
      "cell_type": "code",
      "metadata": {
        "id": "08muKMW4U_1q",
        "colab_type": "code",
        "colab": {}
      },
      "source": [
        "plt.plot(history2.history['loss'])\n",
        "#plt.plot(history.history['val_loss'])\n",
        "plt.title('model loss')\n",
        "plt.ylabel('loss')\n",
        "plt.xlabel('epoch')\n",
        "plt.legend(['train', 'test'], loc='upper left')\n",
        "plt.show()"
      ],
      "execution_count": 0,
      "outputs": []
    },
    {
      "cell_type": "code",
      "metadata": {
        "id": "UE697iiAVM5P",
        "colab_type": "code",
        "colab": {}
      },
      "source": [
        "# Models with  Dropout Technique"
      ],
      "execution_count": 0,
      "outputs": []
    },
    {
      "cell_type": "code",
      "metadata": {
        "id": "ufZe7WHBwpQL",
        "colab_type": "code",
        "outputId": "d1186cf6-77a5-4328-8c73-1310a0fc91d5",
        "colab": {
          "base_uri": "https://localhost:8080/",
          "height": 1000
        }
      },
      "source": [
        "import tensorflow as tf\n",
        "\n",
        "model1 = tf.keras.models.Sequential([\n",
        "  tf.keras.layers.Dense(512, activation=tf.nn.relu),\n",
        "  tf.keras.layers.Dense(512, activation=tf.nn.relu),\n",
        "  tf.keras.layers.Dense(1024, activation=tf.nn.relu),\n",
        "  tf.keras.layers.Dropout(0.2),\n",
        "  tf.keras.layers.Dense(1, activation=tf.nn.sigmoid)\n",
        "])\n",
        "model1.compile(optimizer='adam',\n",
        "              loss='binary_crossentropy',\n",
        "              metrics=['accuracy'])\n",
        "\n",
        "model1.fit(X_train, y_train, epochs=30)\n",
        "model1.evaluate(X_test, y_test)"
      ],
      "execution_count": 0,
      "outputs": [
        {
          "output_type": "stream",
          "text": [
            "Epoch 1/30\n",
            "232/232 [==============================] - 3s 13ms/step - loss: 0.1968 - accuracy: 0.9207\n",
            "Epoch 2/30\n",
            "232/232 [==============================] - 3s 13ms/step - loss: 0.1349 - accuracy: 0.9448\n",
            "Epoch 3/30\n",
            "232/232 [==============================] - 3s 13ms/step - loss: 0.1144 - accuracy: 0.9511\n",
            "Epoch 4/30\n",
            "232/232 [==============================] - 3s 13ms/step - loss: 0.0991 - accuracy: 0.9584\n",
            "Epoch 5/30\n",
            "232/232 [==============================] - 3s 13ms/step - loss: 0.0842 - accuracy: 0.9644\n",
            "Epoch 6/30\n",
            "232/232 [==============================] - 3s 13ms/step - loss: 0.0780 - accuracy: 0.9665\n",
            "Epoch 7/30\n",
            "232/232 [==============================] - 3s 12ms/step - loss: 0.0689 - accuracy: 0.9712\n",
            "Epoch 8/30\n",
            "232/232 [==============================] - 3s 13ms/step - loss: 0.0658 - accuracy: 0.9726\n",
            "Epoch 9/30\n",
            "232/232 [==============================] - 3s 13ms/step - loss: 0.0603 - accuracy: 0.9737\n",
            "Epoch 10/30\n",
            "232/232 [==============================] - 3s 12ms/step - loss: 0.0584 - accuracy: 0.9762\n",
            "Epoch 11/30\n",
            "232/232 [==============================] - 3s 12ms/step - loss: 0.0568 - accuracy: 0.9757\n",
            "Epoch 12/30\n",
            "232/232 [==============================] - 3s 12ms/step - loss: 0.0504 - accuracy: 0.9785\n",
            "Epoch 13/30\n",
            "232/232 [==============================] - 3s 12ms/step - loss: 0.0592 - accuracy: 0.9745\n",
            "Epoch 14/30\n",
            "232/232 [==============================] - 3s 11ms/step - loss: 0.0557 - accuracy: 0.9765\n",
            "Epoch 15/30\n",
            "232/232 [==============================] - 3s 11ms/step - loss: 0.0444 - accuracy: 0.9808\n",
            "Epoch 16/30\n",
            "232/232 [==============================] - 3s 11ms/step - loss: 0.0437 - accuracy: 0.9816\n",
            "Epoch 17/30\n",
            "232/232 [==============================] - 3s 11ms/step - loss: 0.0386 - accuracy: 0.9822\n",
            "Epoch 18/30\n",
            "232/232 [==============================] - 3s 11ms/step - loss: 0.0387 - accuracy: 0.9831\n",
            "Epoch 19/30\n",
            "232/232 [==============================] - 3s 11ms/step - loss: 0.0399 - accuracy: 0.9814\n",
            "Epoch 20/30\n",
            "232/232 [==============================] - 3s 12ms/step - loss: 0.0346 - accuracy: 0.9847\n",
            "Epoch 21/30\n",
            "232/232 [==============================] - 3s 11ms/step - loss: 0.0414 - accuracy: 0.9810\n",
            "Epoch 22/30\n",
            "232/232 [==============================] - 3s 12ms/step - loss: 0.0441 - accuracy: 0.9807\n",
            "Epoch 23/30\n",
            "232/232 [==============================] - 3s 12ms/step - loss: 0.0409 - accuracy: 0.9829\n",
            "Epoch 24/30\n",
            "232/232 [==============================] - 3s 13ms/step - loss: 0.0637 - accuracy: 0.9770\n",
            "Epoch 25/30\n",
            "232/232 [==============================] - 3s 13ms/step - loss: 0.0319 - accuracy: 0.9868\n",
            "Epoch 26/30\n",
            "232/232 [==============================] - 3s 13ms/step - loss: 0.0370 - accuracy: 0.9838\n",
            "Epoch 27/30\n",
            "232/232 [==============================] - 3s 13ms/step - loss: 0.0298 - accuracy: 0.9866\n",
            "Epoch 28/30\n",
            "232/232 [==============================] - 3s 13ms/step - loss: 0.0305 - accuracy: 0.9850\n",
            "Epoch 29/30\n",
            "232/232 [==============================] - 3s 13ms/step - loss: 0.0382 - accuracy: 0.9823\n",
            "Epoch 30/30\n",
            "232/232 [==============================] - 3s 13ms/step - loss: 0.0352 - accuracy: 0.9839\n",
            "115/115 [==============================] - 0s 3ms/step - loss: 0.1687 - accuracy: 0.9605\n"
          ],
          "name": "stdout"
        },
        {
          "output_type": "execute_result",
          "data": {
            "text/plain": [
              "[0.16869908571243286, 0.9605371356010437]"
            ]
          },
          "metadata": {
            "tags": []
          },
          "execution_count": 19
        }
      ]
    },
    {
      "cell_type": "code",
      "metadata": {
        "colab_type": "code",
        "outputId": "a09fcc98-9b29-4b80-d82c-65268d73771a",
        "id": "-mc90o1iUB5j",
        "colab": {
          "base_uri": "https://localhost:8080/",
          "height": 312
        }
      },
      "source": [
        "print(history.history.keys())\n",
        "plt.plot(history.history['accuracy'])\n",
        "#plt.plot(history.history['val_accuracy'])\n",
        "plt.title('model accuracy')\n",
        "plt.ylabel('accuracy')\n",
        "plt.xlabel('epoch')\n",
        "plt.legend(['train', 'test'], loc='upper left')\n",
        "plt.show()"
      ],
      "execution_count": 0,
      "outputs": [
        {
          "output_type": "stream",
          "text": [
            "dict_keys(['loss', 'accuracy'])\n"
          ],
          "name": "stdout"
        },
        {
          "output_type": "display_data",
          "data": {
            "image/png": "[encoded data removed]",
            "text/plain": [
              "<Figure size 432x288 with 1 Axes>"
            ]
          },
          "metadata": {
            "tags": [],
            "needs_background": "light"
          }
        }
      ]
    },
    {
      "cell_type": "code",
      "metadata": {
        "id": "b-zjRtKe_GB6",
        "colab_type": "code",
        "outputId": "dc6fb0b8-1603-4328-cbc0-5a7a11f5a4f8",
        "colab": {
          "base_uri": "https://localhost:8080/",
          "height": 225
        }
      },
      "source": [
        "import tensorflow as tf\n",
        "\n",
        "model1 = tf.keras.models.Sequential([\n",
        "  tf.keras.layers.Dense(512, activation=tf.nn.relu),\n",
        "  tf.keras.layers.Dense(512, activation=tf.nn.relu),\n",
        "  tf.keras.layers.Dense(1024, activation=tf.nn.relu),\n",
        "  tf.keras.layers.Dropout(0.2),\n",
        "  tf.keras.layers.Dense(1, activation=tf.nn.sigmoid)\n",
        "])\n",
        "model1.compile(optimizer='rmsprop',\n",
        "              loss='binary_crossentropy',\n",
        "              metrics=['accuracy'])\n",
        "\n",
        "model1.fit(X_train, y_train, epochs=5)\n",
        "model1.evaluate(X_test, y_test)"
      ],
      "execution_count": 0,
      "outputs": [
        {
          "output_type": "stream",
          "text": [
            "Epoch 1/5\n",
            "232/232 [==============================] - 3s 13ms/step - loss: 0.2070 - accuracy: 0.9179\n",
            "Epoch 2/5\n",
            "232/232 [==============================] - 3s 13ms/step - loss: 0.1391 - accuracy: 0.9446\n",
            "Epoch 3/5\n",
            "232/232 [==============================] - 3s 13ms/step - loss: 0.1196 - accuracy: 0.9540\n",
            "Epoch 4/5\n",
            "232/232 [==============================] - 3s 13ms/step - loss: 0.1037 - accuracy: 0.9581\n",
            "Epoch 5/5\n",
            "232/232 [==============================] - 3s 13ms/step - loss: 0.0940 - accuracy: 0.9627\n",
            "115/115 [==============================] - 0s 3ms/step - loss: 0.1811 - accuracy: 0.9479\n"
          ],
          "name": "stdout"
        },
        {
          "output_type": "execute_result",
          "data": {
            "text/plain": [
              "[0.18112051486968994, 0.9479309320449829]"
            ]
          },
          "metadata": {
            "tags": []
          },
          "execution_count": 22
        }
      ]
    },
    {
      "cell_type": "code",
      "metadata": {
        "id": "LVecqZmM_Y54",
        "colab_type": "code",
        "outputId": "d3eb49a8-9218-402d-bd03-ba1a61877d4b",
        "colab": {
          "base_uri": "https://localhost:8080/",
          "height": 230
        }
      },
      "source": [
        "import tensorflow as tf\n",
        "\n",
        "model1 = tf.keras.models.Sequential([\n",
        "  tf.keras.layers.Dense(512, activation=tf.nn.relu),\n",
        "  tf.keras.layers.Dense(512, activation=tf.nn.relu),\n",
        "  tf.keras.layers.Dense(1024, activation=tf.nn.relu),\n",
        "  tf.keras.layers.Dropout(0.2),\n",
        "  tf.keras.layers.Dense(1, activation=tf.nn.sigmoid)\n",
        "])\n",
        "model1.compile(optimizer='sgd',\n",
        "              loss='binary_crossentropy',\n",
        "              metrics=['accuracy'])\n",
        "\n",
        "model1.fit(X_train, y_train, epochs=5)\n",
        "model1.evaluate(X_test, y_test)"
      ],
      "execution_count": 0,
      "outputs": [
        {
          "output_type": "stream",
          "text": [
            "Epoch 1/5\n",
            "7406/7406 [==============================] - 3s 413us/sample - loss: 0.5098 - acc: 0.7918\n",
            "Epoch 2/5\n",
            "7406/7406 [==============================] - 3s 374us/sample - loss: 0.2555 - acc: 0.9160\n",
            "Epoch 3/5\n",
            "7406/7406 [==============================] - 3s 366us/sample - loss: 0.2079 - acc: 0.9241\n",
            "Epoch 4/5\n",
            "7406/7406 [==============================] - 3s 371us/sample - loss: 0.1912 - acc: 0.9291\n",
            "Epoch 5/5\n",
            "7406/7406 [==============================] - 3s 367us/sample - loss: 0.1804 - acc: 0.9337\n",
            "3649/3649 [==============================] - 0s 134us/sample - loss: 0.1863 - acc: 0.9282\n"
          ],
          "name": "stdout"
        },
        {
          "output_type": "execute_result",
          "data": {
            "text/plain": [
              "[0.18626050857296705, 0.9281995]"
            ]
          },
          "metadata": {
            "tags": []
          },
          "execution_count": 26
        }
      ]
    },
    {
      "cell_type": "code",
      "metadata": {
        "id": "KMmn-4SQtXOK",
        "colab_type": "code",
        "colab": {}
      },
      "source": [
        "y_pred = model.predict(X_test)"
      ],
      "execution_count": 0,
      "outputs": []
    },
    {
      "cell_type": "code",
      "metadata": {
        "id": "orPOfcjY6PZR",
        "colab_type": "code",
        "outputId": "77599525-3b5a-41e3-9069-4080797ff679",
        "colab": {
          "base_uri": "https://localhost:8080/",
          "height": 349
        }
      },
      "source": [
        "from sklearn.metrics import confusion_matrix\n",
        "import numpy as np\n",
        "def plot_confusion_matrix(cm, classes,\n",
        "                          normalize=True,\n",
        "                          title='Confusion matrix',\n",
        "                          cmap=plt.cm.Blues):\n",
        "    \"\"\"\n",
        "    This function prints and plots the confusion matrix.\n",
        "    Normalization can be applied by setting `normalize=True`.\n",
        "    \"\"\"\n",
        "    if normalize:\n",
        "        cm = cm.astype('float') / cm.sum(axis=1)[:, np.newaxis]\n",
        "        print(\"Normalized confusion matrix\")\n",
        "    else:\n",
        "        print('Confusion matrix, without normalization')\n",
        "\n",
        "    print(cm)\n",
        "\n",
        "    plt.imshow(cm, interpolation='nearest', cmap=cmap)\n",
        "    plt.title(title)\n",
        "    plt.colorbar()\n",
        "    tick_marks = np.arange(len(classes))\n",
        "    plt.xticks(tick_marks, classes, rotation=45)\n",
        "    plt.yticks(tick_marks, classes)\n",
        "\n",
        "    fmt = '.2f' if normalize else 'd'\n",
        "    thresh = cm.max() / 2.\n",
        "    #for i, j in itertools.product(range(cm.shape[0]), range(cm.shape[1])):\n",
        "    for i in range(cm.shape[0]):\n",
        "      for j in range(cm.shape[1]):\n",
        "        plt.text(j, i, format(cm[i, j], fmt),\n",
        "                 horizontalalignment=\"center\",\n",
        "                 color=\"white\" if cm[i, j] > thresh else \"black\")\n",
        "\n",
        "    plt.ylabel('True label')\n",
        "    plt.xlabel('Predicted label')\n",
        "    plt.tight_layout()\n",
        "\n",
        "\n",
        "# Compute confusion matrix\n",
        "cnf_matrix = confusion_matrix(y_test, y_pred.round())\n",
        "np.set_printoptions(precision=2)\n",
        "\n",
        "# Plot non-normalized confusion matrix\n",
        "plt.figure()\n",
        "plot_confusion_matrix(cnf_matrix, classes=['Not Phished','Phished'],\n",
        "                      title='Confusion matrix, without normalization')"
      ],
      "execution_count": 0,
      "outputs": [
        {
          "output_type": "stream",
          "text": [
            "Normalized confusion matrix\n",
            "[[0.9  0.1 ]\n",
            " [0.02 0.98]]\n"
          ],
          "name": "stdout"
        },
        {
          "output_type": "display_data",
          "data": {
            "image/png": "[encoded data removed]",
            "text/plain": [
              "<Figure size 432x288 with 2 Axes>"
            ]
          },
          "metadata": {
            "tags": [],
            "needs_background": "light"
          }
        }
      ]
    },
    {
      "cell_type": "code",
      "metadata": {
        "id": "nRmqDQ8tzebc",
        "colab_type": "code",
        "outputId": "0dd2fb72-fc7c-48dd-c722-4a91d315df30",
        "colab": {
          "base_uri": "https://localhost:8080/",
          "height": 34
        }
      },
      "source": [
        "#round(pred[7][0])"
      ],
      "execution_count": 0,
      "outputs": [
        {
          "output_type": "execute_result",
          "data": {
            "text/plain": [
              "0.0"
            ]
          },
          "metadata": {
            "tags": []
          },
          "execution_count": 21
        }
      ]
    },
    {
      "cell_type": "code",
      "metadata": {
        "id": "zeHCtJJq36Jg",
        "colab_type": "code",
        "outputId": "1beb2e4f-8fcb-4755-b7d6-45b624a3e4a2",
        "colab": {
          "base_uri": "https://localhost:8080/",
          "height": 221
        }
      },
      "source": [
        "import tensorflow as tf\n",
        "\n",
        "model1 = tf.keras.models.Sequential([\n",
        "  tf.keras.layers.Dense(512, activation=tf.nn.relu),\n",
        "  tf.keras.layers.Dense(512, activation=tf.nn.relu),\n",
        "  tf.keras.layers.Dense(1024, activation=tf.nn.relu),\n",
        "  tf.keras.layers.Dropout(0.2),\n",
        "  tf.keras.layers.Dense(2, activation=tf.nn.sigmoid)\n",
        "])\n",
        "model1.compile(optimizer='sgd',\n",
        "              loss='sparse_categorical_crossentropy',\n",
        "              metrics=['accuracy'])\n",
        "\n",
        "model1.fit(X_train, y_train, epochs=40)\n",
        "model1.evaluate(X_test, y_test)"
      ],
      "execution_count": 0,
      "outputs": [
        {
          "output_type": "stream",
          "text": [
            "Epoch 1/5\n",
            "7406/7406 [==============================] - 3s 365us/sample - loss: 0.5763 - acc: 0.8099\n",
            "Epoch 2/5\n",
            "7406/7406 [==============================] - 3s 343us/sample - loss: 0.2914 - acc: 0.9045\n",
            "Epoch 3/5\n",
            "7406/7406 [==============================] - 3s 345us/sample - loss: 0.2275 - acc: 0.9193\n",
            "Epoch 4/5\n",
            "7406/7406 [==============================] - 3s 345us/sample - loss: 0.1983 - acc: 0.9259\n",
            "Epoch 5/5\n",
            "7406/7406 [==============================] - 3s 347us/sample - loss: 0.1831 - acc: 0.9301\n",
            "3649/3649 [==============================] - 0s 116us/sample - loss: 0.1871 - acc: 0.9260\n"
          ],
          "name": "stdout"
        },
        {
          "output_type": "execute_result",
          "data": {
            "text/plain": [
              "[0.1870557349425337, 0.92600715]"
            ]
          },
          "metadata": {
            "tags": []
          },
          "execution_count": 16
        }
      ]
    },
    {
      "cell_type": "code",
      "metadata": {
        "id": "MWzU-wqtz1xF",
        "colab_type": "code",
        "colab": {}
      },
      "source": [
        "import numpy as np\n",
        "l = np.array([[1,0,1,1,1,-1,-1,-1,-1,1,1,-1,1,0,-1,-1,-1,-1,0,1,1,1,1,1,-1,1,-1,1,0,-1]])\n",
        "p= model.predict(l)"
      ],
      "execution_count": 0,
      "outputs": []
    },
    {
      "cell_type": "code",
      "metadata": {
        "id": "U6On7TNQHtWY",
        "colab_type": "code",
        "outputId": "4c9d374c-073b-4cba-c9c4-09d0bc16df1d",
        "colab": {
          "base_uri": "https://localhost:8080/",
          "height": 34
        }
      },
      "source": [
        "round(p[0][0])"
      ],
      "execution_count": 0,
      "outputs": [
        {
          "output_type": "execute_result",
          "data": {
            "text/plain": [
              "0.0"
            ]
          },
          "metadata": {
            "tags": []
          },
          "execution_count": 42
        }
      ]
    },
    {
      "cell_type": "code",
      "metadata": {
        "id": "yDLYAwxnHx5P",
        "colab_type": "code",
        "colab": {}
      },
      "source": [
        ""
      ],
      "execution_count": 0,
      "outputs": []
    },
    {
      "cell_type": "code",
      "metadata": {
        "id": "bRirHW1XIFu3",
        "colab_type": "code",
        "outputId": "bfb9897b-4b31-492b-a064-3b30db6209b6",
        "colab": {
          "base_uri": "https://localhost:8080/",
          "height": 34
        }
      },
      "source": [
        "round(pred[0][0])\n"
      ],
      "execution_count": 0,
      "outputs": [
        {
          "output_type": "execute_result",
          "data": {
            "text/plain": [
              "0.0"
            ]
          },
          "metadata": {
            "tags": []
          },
          "execution_count": 22
        }
      ]
    },
    {
      "cell_type": "code",
      "metadata": {
        "id": "ZVwrczgrI1kO",
        "colab_type": "code",
        "outputId": "ecb0b5f0-d116-4f23-d486-a6ec00ee02d2",
        "colab": {
          "base_uri": "https://localhost:8080/",
          "height": 34
        }
      },
      "source": [
        "y_test[0]"
      ],
      "execution_count": 0,
      "outputs": [
        {
          "output_type": "execute_result",
          "data": {
            "text/plain": [
              "0"
            ]
          },
          "metadata": {
            "tags": []
          },
          "execution_count": 23
        }
      ]
    },
    {
      "cell_type": "code",
      "metadata": {
        "id": "7SngfRMkJcsM",
        "colab_type": "code",
        "outputId": "de24101a-a77a-41a7-a828-e773cd9234a6",
        "colab": {
          "base_uri": "https://localhost:8080/",
          "height": 34
        }
      },
      "source": [
        "round(pred[9][0])"
      ],
      "execution_count": 0,
      "outputs": [
        {
          "output_type": "execute_result",
          "data": {
            "text/plain": [
              "1.0"
            ]
          },
          "metadata": {
            "tags": []
          },
          "execution_count": 25
        }
      ]
    },
    {
      "cell_type": "code",
      "metadata": {
        "id": "xgNlp4XGNPES",
        "colab_type": "code",
        "outputId": "71cedfab-a53c-423f-c0cd-a98809b3a1ff",
        "colab": {
          "base_uri": "https://localhost:8080/",
          "height": 34
        }
      },
      "source": [
        "print(y_test[9])\n",
        "pred = model.predict(X_test)"
      ],
      "execution_count": 0,
      "outputs": [
        {
          "output_type": "stream",
          "text": [
            "0\n"
          ],
          "name": "stdout"
        }
      ]
    },
    {
      "cell_type": "code",
      "metadata": {
        "id": "SuW6VB45fajz",
        "colab_type": "code",
        "outputId": "e38f2c63-1ecd-4e19-beb8-df27bf6c0161",
        "colab": {
          "base_uri": "https://localhost:8080/",
          "height": 34
        }
      },
      "source": [
        "y_test[20]"
      ],
      "execution_count": 0,
      "outputs": [
        {
          "output_type": "execute_result",
          "data": {
            "text/plain": [
              "0"
            ]
          },
          "metadata": {
            "tags": []
          },
          "execution_count": 28
        }
      ]
    },
    {
      "cell_type": "code",
      "metadata": {
        "id": "X8agvIhQfmJt",
        "colab_type": "code",
        "outputId": "7b775441-8cea-4bce-80d6-a0e8bc01e392",
        "colab": {
          "base_uri": "https://localhost:8080/",
          "height": 34
        }
      },
      "source": [
        "round(pred[20][0])"
      ],
      "execution_count": 0,
      "outputs": [
        {
          "output_type": "execute_result",
          "data": {
            "text/plain": [
              "0.0"
            ]
          },
          "metadata": {
            "tags": []
          },
          "execution_count": 29
        }
      ]
    },
    {
      "cell_type": "code",
      "metadata": {
        "id": "WG62ie-yf4KQ",
        "colab_type": "code",
        "outputId": "9dd0e799-664e-454e-bfe3-119cc662abaa",
        "colab": {
          "base_uri": "https://localhost:8080/",
          "height": 395
        }
      },
      "source": [
        "l=[0.9182,0.9372,0.9534,0.9550,0.9577]\n",
        "l3=[0.8079,0.9041,0.9164,0.9222,0.9287]\n",
        "l2=[0.9125,0.9430,0.9498,0.9552,0.9602]\n",
        "l1 = [1,2,3,4,5]\n",
        "import matplotlib.pyplot as plt\n",
        "plt.xlabel(\"Epochs\")\n",
        "plt.ylabel(\"Accuracy\")\n",
        "plt.plot(l1,l2,l)\n",
        "plt.plot(l1,l3,l)"
      ],
      "execution_count": 0,
      "outputs": [
        {
          "output_type": "execute_result",
          "data": {
            "text/plain": [
              "[<matplotlib.lines.Line2D at 0x7fc011993b70>,\n",
              " <matplotlib.lines.Line2D at 0x7fc0118a9e80>]"
            ]
          },
          "metadata": {
            "tags": []
          },
          "execution_count": 30
        },
        {
          "output_type": "display_data",
          "data": {
            "image/png": "[encoded data removed]",
            "text/plain": [
              "<Figure size 576x396 with 1 Axes>"
            ]
          },
          "metadata": {
            "tags": []
          }
        }
      ]
    },
    {
      "cell_type": "code",
      "metadata": {
        "id": "xl9LsOp4_Agl",
        "colab_type": "code",
        "outputId": "bfb0c729-43e7-4377-92b7-3958bec06da8",
        "colab": {
          "base_uri": "https://localhost:8080/",
          "height": 221
        }
      },
      "source": [
        "import tensorflow as tf\n",
        "\n",
        "model = tf.keras.models.Sequential([\n",
        "  tf.keras.layers.Dense(512, activation=tf.nn.relu),\n",
        "  tf.keras.layers.Dense(512, activation=tf.nn.relu),\n",
        "  tf.keras.layers.Dense(256, activation=tf.nn.relu),\n",
        "  tf.keras.layers.Dense(1, activation=tf.nn.sigmoid)\n",
        "])\n",
        "model.compile(optimizer='rmsprop',\n",
        "              loss='binary_crossentropy',\n",
        "              metrics=['accuracy'])\n",
        "\n",
        "model.fit(X_train, y_train, epochs=5)\n",
        "model.evaluate(X_test, y_test)"
      ],
      "execution_count": 0,
      "outputs": [
        {
          "output_type": "stream",
          "text": [
            "Epoch 1/5\n",
            "7406/7406 [==============================] - 2s 279us/sample - loss: 0.2411 - acc: 0.9013\n",
            "Epoch 2/5\n",
            "7406/7406 [==============================] - 2s 256us/sample - loss: 0.1591 - acc: 0.9357\n",
            "Epoch 3/5\n",
            "7406/7406 [==============================] - 2s 259us/sample - loss: 0.1317 - acc: 0.9483\n",
            "Epoch 4/5\n",
            "7406/7406 [==============================] - 2s 255us/sample - loss: 0.1205 - acc: 0.9522\n",
            "Epoch 5/5\n",
            "7406/7406 [==============================] - 2s 251us/sample - loss: 0.1124 - acc: 0.9563\n",
            "3649/3649 [==============================] - 0s 85us/sample - loss: 0.1163 - acc: 0.9545\n"
          ],
          "name": "stdout"
        },
        {
          "output_type": "execute_result",
          "data": {
            "text/plain": [
              "[0.11630499277393536, 0.95450807]"
            ]
          },
          "metadata": {
            "tags": []
          },
          "execution_count": 31
        }
      ]
    },
    {
      "cell_type": "code",
      "metadata": {
        "id": "W4phFmss4Y_e",
        "colab_type": "code",
        "outputId": "16457895-bb81-4429-832d-4eb7cd7e8068",
        "colab": {
          "base_uri": "https://localhost:8080/",
          "height": 221
        }
      },
      "source": [
        "import tensorflow as tf\n",
        "\n",
        "model = tf.keras.models.Sequential([\n",
        "  tf.keras.layers.Dense(512, activation=tf.nn.relu),\n",
        "  tf.keras.layers.Dense(512, activation=tf.nn.relu),\n",
        "  tf.keras.layers.Dense(256, activation=tf.nn.relu),\n",
        "  tf.keras.layers.Dense(1, activation=tf.nn.sigmoid)\n",
        "])\n",
        "model.compile(optimizer='sgd',\n",
        "              loss='binary_crossentropy',\n",
        "              metrics=['accuracy'])\n",
        "\n",
        "model.fit(X_train, y_train, epochs=40)\n",
        "model.evaluate(X_test, y_test)"
      ],
      "execution_count": 0,
      "outputs": [
        {
          "output_type": "stream",
          "text": [
            "Epoch 1/5\n",
            "7406/7406 [==============================] - 2s 217us/sample - loss: 0.5134 - acc: 0.8343\n",
            "Epoch 2/5\n",
            "7406/7406 [==============================] - 1s 193us/sample - loss: 0.2809 - acc: 0.9093\n",
            "Epoch 3/5\n",
            "7406/7406 [==============================] - 1s 193us/sample - loss: 0.2278 - acc: 0.9178\n",
            "Epoch 4/5\n",
            "7406/7406 [==============================] - 2s 206us/sample - loss: 0.2028 - acc: 0.9224\n",
            "Epoch 5/5\n",
            "7406/7406 [==============================] - 2s 205us/sample - loss: 0.1871 - acc: 0.9302\n",
            "3649/3649 [==============================] - 0s 86us/sample - loss: 0.1878 - acc: 0.9249\n"
          ],
          "name": "stdout"
        },
        {
          "output_type": "execute_result",
          "data": {
            "text/plain": [
              "[0.18777581128103174, 0.92491096]"
            ]
          },
          "metadata": {
            "tags": []
          },
          "execution_count": 32
        }
      ]
    },
    {
      "cell_type": "code",
      "metadata": {
        "id": "gUuH0Qk44dEq",
        "colab_type": "code",
        "outputId": "a7e93733-665a-4b2b-ff99-bae38a272870",
        "colab": {
          "base_uri": "https://localhost:8080/",
          "height": 378
        }
      },
      "source": [
        "adam=[0.9182,0.9372,0.9534,0.9550,0.9577]\n",
        "rms = [0.9020,0.9369,0.9491,0.9522,0.9571]\n",
        "sgd = [0.8327,0.9126,0.9179,0.9249,0.9283]\n",
        "l = [1,2,3,4,5]\n",
        "plt.plot(adam,l)\n",
        "plt.plot(sgd,l)\n",
        "plt.plot(rms,l)\n",
        "plt.xlabel(\"Epochs\")\n",
        "plt.ylabel(\"Train Accuracy\")"
      ],
      "execution_count": 0,
      "outputs": [
        {
          "output_type": "execute_result",
          "data": {
            "text/plain": [
              "Text(0, 0.5, 'Train Accuracy')"
            ]
          },
          "metadata": {
            "tags": []
          },
          "execution_count": 33
        },
        {
          "output_type": "display_data",
          "data": {
            "image/png": "[encoded data removed]",
            "text/plain": [
              "<Figure size 576x396 with 1 Axes>"
            ]
          },
          "metadata": {
            "tags": []
          }
        }
      ]
    },
    {
      "cell_type": "code",
      "metadata": {
        "id": "-7QQo-pG5bCg",
        "colab_type": "code",
        "outputId": "98d195a2-9415-41db-d8ba-311606de29da",
        "colab": {
          "base_uri": "https://localhost:8080/",
          "height": 221
        }
      },
      "source": [
        "import tensorflow as tf\n",
        "\n",
        "model1 = tf.keras.models.Sequential([\n",
        "  tf.keras.layers.Dense(512, activation=tf.nn.relu),\n",
        "  tf.keras.layers.Dense(512, activation=tf.nn.relu),\n",
        "  tf.keras.layers.Dense(1024, activation=tf.nn.relu),\n",
        "  tf.keras.layers.Dropout(0.2),\n",
        "  tf.keras.layers.Dense(1, activation=tf.nn.sigmoid)\n",
        "])\n",
        "model1.compile(optimizer='adam',\n",
        "              loss='binary_crossentropy',\n",
        "              metrics=['accuracy'])\n",
        "\n",
        "model1.fit(X_train, y_train, epochs=40)\n",
        "model1.evaluate(X_test, y_test)"
      ],
      "execution_count": 0,
      "outputs": [
        {
          "output_type": "stream",
          "text": [
            "Epoch 1/5\n",
            "7406/7406 [==============================] - 5s 619us/sample - loss: 0.2107 - acc: 0.9132\n",
            "Epoch 2/5\n",
            "7406/7406 [==============================] - 5s 610us/sample - loss: 0.1383 - acc: 0.9415\n",
            "Epoch 3/5\n",
            "7406/7406 [==============================] - 4s 596us/sample - loss: 0.1177 - acc: 0.9544\n",
            "Epoch 4/5\n",
            "7406/7406 [==============================] - 4s 571us/sample - loss: 0.1001 - acc: 0.9606\n",
            "Epoch 5/5\n",
            "7406/7406 [==============================] - 4s 579us/sample - loss: 0.0921 - acc: 0.9607\n",
            "3649/3649 [==============================] - 1s 158us/sample - loss: 0.1247 - acc: 0.9540\n"
          ],
          "name": "stdout"
        },
        {
          "output_type": "execute_result",
          "data": {
            "text/plain": [
              "[0.12468271436479589, 0.95396]"
            ]
          },
          "metadata": {
            "tags": []
          },
          "execution_count": 49
        }
      ]
    },
    {
      "cell_type": "code",
      "metadata": {
        "id": "CmWPb8mV9gE5",
        "colab_type": "code",
        "outputId": "c6883889-1584-4490-a266-bd38cb01e4f8",
        "colab": {
          "base_uri": "https://localhost:8080/",
          "height": 378
        }
      },
      "source": [
        "adam=[0.9132, 0.9415,0.9544,0.9606,0.9607]\n",
        "rms = [0.9035,0.9376,0.9449,0.9529,0.9557]\n",
        "sgd = [0.8342,0.9068,0.9159,0.9210,0.9270]\n",
        "l = [1,2,3,4,5]\n",
        "plt.plot(adam,l)\n",
        "plt.plot(sgd,l)\n",
        "plt.plot(rms,l)\n",
        "plt.ylabel(\"Epochs\")\n",
        "plt.xlabel(\"Train Accuracy\")"
      ],
      "execution_count": 0,
      "outputs": [
        {
          "output_type": "execute_result",
          "data": {
            "text/plain": [
              "Text(0.5, 0, 'Train Accuracy')"
            ]
          },
          "metadata": {
            "tags": []
          },
          "execution_count": 35
        },
        {
          "output_type": "display_data",
          "data": {
            "image/png": "[encoded data removed]",
            "text/plain": [
              "<Figure size 576x396 with 1 Axes>"
            ]
          },
          "metadata": {
            "tags": []
          }
        }
      ]
    },
    {
      "cell_type": "code",
      "metadata": {
        "id": "Fk_DYUJa-ILY",
        "colab_type": "code",
        "outputId": "915b3364-c466-4bfd-d71d-081cc346ddfc",
        "colab": {
          "base_uri": "https://localhost:8080/",
          "height": 945
        }
      },
      "source": [
        "import numpy as np\n",
        "def URLhavingattherate(URL): #4th column\n",
        "    if '@' in URL:\n",
        "        return 0\n",
        "    else:\n",
        "        return 1\n",
        "def Redirectusingdoubleslash(URL):#5th column\n",
        "    p=0\n",
        "    for i in range(len(URL)-1):\n",
        "        if URL[i]==\"/\" and URL[i+1]==\"/\":\n",
        "            p=i\n",
        "    if p>7:\n",
        "        return 0\n",
        "    else:\n",
        "        return 1\n",
        "def prefixsuffix(URL): #6th column\n",
        "    if '-' in URL:\n",
        "         return 0\n",
        "    else:\n",
        "        return 1\n",
        "def Length(URL): #2nd column\n",
        "    if len(URL)<54:\n",
        "         return 1\n",
        "    else:\n",
        "        return 0.\n",
        "def TinyURL(URL): #3rd column\n",
        "    if 'bit.ly' in url:\n",
        "         return 1\n",
        "    else:\n",
        "        return 0\n",
        "def IP(URL):#1st Column\n",
        "    if URL.count('x')>6:\n",
        "        return 0\n",
        "    else:\n",
        "        return 1\n",
        "def Dot(URL):#7th column\n",
        "    if URL.count('.')>3:\n",
        "        return 0\n",
        "    else:\n",
        "        return 1\n",
        "def HTTPS(URL):#8th column\n",
        "    if 'https' in URL:\n",
        "        return 1\n",
        "    else:\n",
        "        return 0\n",
        "def valid(e):\n",
        "    if e<=1:\n",
        "        return 1\n",
        "    else:\n",
        "        return 0\n",
        "def favicon(f):\n",
        "    if f==1:\n",
        "        return 1\n",
        "    else:\n",
        "        return 0\n",
        "\n",
        "def nonstandardport(port): #11\n",
        "   if port == True:return 0 \n",
        "   else: return 1\n",
        "\n",
        "def requestUrl(URL): #13 column\n",
        "    if URL>=22 and URL<=61:\n",
        "        return 1\n",
        "    else:\n",
        "        return 0\n",
        "def anchor(URL): #14column\n",
        "    if URL>=31 and URL<=67:\n",
        "        return 1\n",
        "    else:\n",
        "        return 0\n",
        "def SFH(sfh): #16column\n",
        "    if sfh=='':\n",
        "        return 1\n",
        "    else:\n",
        "        return 0\n",
        "def email(mail): #17column\n",
        "    mail=0\n",
        "    if mail==1:\n",
        "        return 1\n",
        "    else:\n",
        "        return 0\n",
        "def abnormal(URL): #18column\n",
        "    hostname=''\n",
        "    if URL==hostname:\n",
        "        return 1\n",
        "    else:\n",
        "        return 0\n",
        "def redirect(URL): #19column\n",
        "    redirect=1\n",
        "    if redirect>=2 and redirect<4:\n",
        "        return 1\n",
        "    else:\n",
        "        return 0\n",
        "def onmouseover(URL): #20colum\n",
        "    if len(URL) >20:\n",
        "        return 0\n",
        "    else:\n",
        "        return 1\n",
        "\n",
        "\n",
        "\n",
        "    \n",
        "def rightclick(URL): #21column\n",
        "    if len(URL)>12:\n",
        "        return 1\n",
        "    else:\n",
        "        return 0\n",
        "def popup(txt): #22column\n",
        "    if txt==\"\":\n",
        "        return 0\n",
        "    else:\n",
        "        return 1\n",
        "\n",
        "\n",
        "def iframe(frame): #23\n",
        "    frame=0\n",
        "    if frame==1:\n",
        "        return 1\n",
        "    else:\n",
        "        return 0\n",
        "def ageofdomain(month): #24\n",
        "    #month = int(input('Enter the number to be converted: '))\n",
        "    if month<6:\n",
        "        return 1\n",
        "    else:\n",
        "        return 0\n",
        "def dnsrecord(dns): #25\n",
        "    if dns=='':\n",
        "        return 1\n",
        "    else:\n",
        "        return 0\n",
        "def websitetraffic(rank): #26\n",
        "    if rank>=100000:\n",
        "        return 1\n",
        "    else:\n",
        "        return 0\n",
        "def pagerank(prank): #27\n",
        "    if prank<0.2:\n",
        "        return 1\n",
        "    else :\n",
        "        return 0\n",
        "def googleindex(index): #28\n",
        "    if index == True:\n",
        "        return 1\n",
        "    else:\n",
        "        return 0\n",
        "\n",
        "def numboflinks(link): #29\n",
        "    if link>=0 and link<=2:\n",
        "        return 1\n",
        "    else:\n",
        "        return 0\n",
        "\n",
        "url = input()\n",
        "exp = int(input())\n",
        "L=[]\n",
        "for i in range(30):\n",
        "    L+=[0]\n",
        "c9 = valid(exp)\n",
        "L[8] = c9\n",
        "c8 = Dot(url)\n",
        "L[7] = c8\n",
        "c7 = Dot(url)\n",
        "L[6] = c7\n",
        "c1 = IP(url)\n",
        "L[0] = c1\n",
        "c3 = TinyURL(url)\n",
        "L[2]=c3\n",
        "c2 = Length(url)\n",
        "L[1] = c2\n",
        "p = URLhavingattherate(url)\n",
        "L[3]=p\n",
        "k = Redirectusingdoubleslash(url)\n",
        "L[4]=k\n",
        "s = prefixsuffix(url)\n",
        "L[5]=s\n",
        "f = int(input())\n",
        "c10 = favicon(f)\n",
        "L[9] = c10\n",
        "port = int(input('port'))\n",
        "c11 = nonstandardport(port)\n",
        "L[10]=c11\n",
        "c12=requestUrl(url)\n",
        "L[11]= c12\n",
        "c13=anchor(url)\n",
        "L[12]= c13\n",
        "c14 = SFH(url)\n",
        "L[13]= c14\n",
        "mail = int(input('Mail'))\n",
        "c15 = email(mail)\n",
        "L[14] = c15\n",
        "c16 = abnormal(url)\n",
        "L[15] = c16\n",
        "c17 = redirect(url)\n",
        "L[16] = c17\n",
        "c18 = onmouseover(url)\n",
        "L[17] = c18\n",
        "c19 = rightclick(url)\n",
        "L[18] = c19\n",
        "c20 = popup(url)\n",
        "L[19] = c20\n",
        "frame = int(input('frame'))\n",
        "c21 = iframe(frame)\n",
        "L[20] = c21\n",
        "age = int(input('age'))\n",
        "c22 = ageofdomain(age)\n",
        "L[21] = c22\n",
        "dns = int(input('dns'))\n",
        "c23 = dnsrecord(dns)\n",
        "L[22] = c23\n",
        "rank = int(input('rank'))\n",
        "c24 = websitetraffic(rank)\n",
        "L[23] = c24\n",
        "c25 = googleindex(rank)\n",
        "L[24] = c25\n",
        "links = int(input('Links'))\n",
        "c26 = numboflinks(links)\n",
        "L[25] = c26\n",
        "for i in range(26,30):\n",
        "    p = np.random.randn(1)\n",
        "    if p>0.5:\n",
        "        L[i] = 1\n",
        "    else:\n",
        "        L[i] = 0\n",
        "print(*L)\n"
      ],
      "execution_count": 0,
      "outputs": [
        {
          "output_type": "error",
          "ename": "KeyboardInterrupt",
          "evalue": "ignored",
          "traceback": [
            "\u001b[0;31m---------------------------------------------------------------------------\u001b[0m",
            "\u001b[0;31mKeyboardInterrupt\u001b[0m                         Traceback (most recent call last)",
            "\u001b[0;32m/usr/local/lib/python3.6/dist-packages/ipykernel/kernelbase.py\u001b[0m in \u001b[0;36m_input_request\u001b[0;34m(self, prompt, ident, parent, password)\u001b[0m\n\u001b[1;32m    729\u001b[0m             \u001b[0;32mtry\u001b[0m\u001b[0;34m:\u001b[0m\u001b[0;34m\u001b[0m\u001b[0;34m\u001b[0m\u001b[0m\n\u001b[0;32m--> 730\u001b[0;31m                 \u001b[0mident\u001b[0m\u001b[0;34m,\u001b[0m \u001b[0mreply\u001b[0m \u001b[0;34m=\u001b[0m \u001b[0mself\u001b[0m\u001b[0;34m.\u001b[0m\u001b[0msession\u001b[0m\u001b[0;34m.\u001b[0m\u001b[0mrecv\u001b[0m\u001b[0;34m(\u001b[0m\u001b[0mself\u001b[0m\u001b[0;34m.\u001b[0m\u001b[0mstdin_socket\u001b[0m\u001b[0;34m,\u001b[0m \u001b[0;36m0\u001b[0m\u001b[0;34m)\u001b[0m\u001b[0;34m\u001b[0m\u001b[0;34m\u001b[0m\u001b[0m\n\u001b[0m\u001b[1;32m    731\u001b[0m             \u001b[0;32mexcept\u001b[0m \u001b[0mException\u001b[0m\u001b[0;34m:\u001b[0m\u001b[0;34m\u001b[0m\u001b[0;34m\u001b[0m\u001b[0m\n",
            "\u001b[0;32m/usr/local/lib/python3.6/dist-packages/jupyter_client/session.py\u001b[0m in \u001b[0;36mrecv\u001b[0;34m(self, socket, mode, content, copy)\u001b[0m\n\u001b[1;32m    802\u001b[0m         \u001b[0;32mtry\u001b[0m\u001b[0;34m:\u001b[0m\u001b[0;34m\u001b[0m\u001b[0;34m\u001b[0m\u001b[0m\n\u001b[0;32m--> 803\u001b[0;31m             \u001b[0mmsg_list\u001b[0m \u001b[0;34m=\u001b[0m \u001b[0msocket\u001b[0m\u001b[0;34m.\u001b[0m\u001b[0mrecv_multipart\u001b[0m\u001b[0;34m(\u001b[0m\u001b[0mmode\u001b[0m\u001b[0;34m,\u001b[0m \u001b[0mcopy\u001b[0m\u001b[0;34m=\u001b[0m\u001b[0mcopy\u001b[0m\u001b[0;34m)\u001b[0m\u001b[0;34m\u001b[0m\u001b[0;34m\u001b[0m\u001b[0m\n\u001b[0m\u001b[1;32m    804\u001b[0m         \u001b[0;32mexcept\u001b[0m \u001b[0mzmq\u001b[0m\u001b[0;34m.\u001b[0m\u001b[0mZMQError\u001b[0m \u001b[0;32mas\u001b[0m \u001b[0me\u001b[0m\u001b[0;34m:\u001b[0m\u001b[0;34m\u001b[0m\u001b[0;34m\u001b[0m\u001b[0m\n",
            "\u001b[0;32m/usr/local/lib/python3.6/dist-packages/zmq/sugar/socket.py\u001b[0m in \u001b[0;36mrecv_multipart\u001b[0;34m(self, flags, copy, track)\u001b[0m\n\u001b[1;32m    465\u001b[0m         \"\"\"\n\u001b[0;32m--> 466\u001b[0;31m         \u001b[0mparts\u001b[0m \u001b[0;34m=\u001b[0m \u001b[0;34m[\u001b[0m\u001b[0mself\u001b[0m\u001b[0;34m.\u001b[0m\u001b[0mrecv\u001b[0m\u001b[0;34m(\u001b[0m\u001b[0mflags\u001b[0m\u001b[0;34m,\u001b[0m \u001b[0mcopy\u001b[0m\u001b[0;34m=\u001b[0m\u001b[0mcopy\u001b[0m\u001b[0;34m,\u001b[0m \u001b[0mtrack\u001b[0m\u001b[0;34m=\u001b[0m\u001b[0mtrack\u001b[0m\u001b[0;34m)\u001b[0m\u001b[0;34m]\u001b[0m\u001b[0;34m\u001b[0m\u001b[0;34m\u001b[0m\u001b[0m\n\u001b[0m\u001b[1;32m    467\u001b[0m         \u001b[0;31m# have first part already, only loop while more to receive\u001b[0m\u001b[0;34m\u001b[0m\u001b[0;34m\u001b[0m\u001b[0;34m\u001b[0m\u001b[0m\n",
            "\u001b[0;32mzmq/backend/cython/socket.pyx\u001b[0m in \u001b[0;36mzmq.backend.cython.socket.Socket.recv\u001b[0;34m()\u001b[0m\n",
            "\u001b[0;32mzmq/backend/cython/socket.pyx\u001b[0m in \u001b[0;36mzmq.backend.cython.socket.Socket.recv\u001b[0;34m()\u001b[0m\n",
            "\u001b[0;32mzmq/backend/cython/socket.pyx\u001b[0m in \u001b[0;36mzmq.backend.cython.socket._recv_copy\u001b[0;34m()\u001b[0m\n",
            "\u001b[0;32m/usr/local/lib/python3.6/dist-packages/zmq/backend/cython/checkrc.pxd\u001b[0m in \u001b[0;36mzmq.backend.cython.checkrc._check_rc\u001b[0;34m()\u001b[0m\n",
            "\u001b[0;31mKeyboardInterrupt\u001b[0m: ",
            "\nDuring handling of the above exception, another exception occurred:\n",
            "\u001b[0;31mKeyboardInterrupt\u001b[0m                         Traceback (most recent call last)",
            "\u001b[0;32m<ipython-input-6-2784cedc88ec>\u001b[0m in \u001b[0;36m<module>\u001b[0;34m()\u001b[0m\n\u001b[1;32m    152\u001b[0m         \u001b[0;32mreturn\u001b[0m \u001b[0;36m0\u001b[0m\u001b[0;34m\u001b[0m\u001b[0;34m\u001b[0m\u001b[0m\n\u001b[1;32m    153\u001b[0m \u001b[0;34m\u001b[0m\u001b[0m\n\u001b[0;32m--> 154\u001b[0;31m \u001b[0murl\u001b[0m \u001b[0;34m=\u001b[0m \u001b[0minput\u001b[0m\u001b[0;34m(\u001b[0m\u001b[0;34m)\u001b[0m\u001b[0;34m\u001b[0m\u001b[0;34m\u001b[0m\u001b[0m\n\u001b[0m\u001b[1;32m    155\u001b[0m \u001b[0mexp\u001b[0m \u001b[0;34m=\u001b[0m \u001b[0mint\u001b[0m\u001b[0;34m(\u001b[0m\u001b[0minput\u001b[0m\u001b[0;34m(\u001b[0m\u001b[0;34m)\u001b[0m\u001b[0;34m)\u001b[0m\u001b[0;34m\u001b[0m\u001b[0;34m\u001b[0m\u001b[0m\n\u001b[1;32m    156\u001b[0m \u001b[0mL\u001b[0m\u001b[0;34m=\u001b[0m\u001b[0;34m[\u001b[0m\u001b[0;34m]\u001b[0m\u001b[0;34m\u001b[0m\u001b[0;34m\u001b[0m\u001b[0m\n",
            "\u001b[0;32m/usr/local/lib/python3.6/dist-packages/ipykernel/kernelbase.py\u001b[0m in \u001b[0;36mraw_input\u001b[0;34m(self, prompt)\u001b[0m\n\u001b[1;32m    703\u001b[0m             \u001b[0mself\u001b[0m\u001b[0;34m.\u001b[0m\u001b[0m_parent_ident\u001b[0m\u001b[0;34m,\u001b[0m\u001b[0;34m\u001b[0m\u001b[0;34m\u001b[0m\u001b[0m\n\u001b[1;32m    704\u001b[0m             \u001b[0mself\u001b[0m\u001b[0;34m.\u001b[0m\u001b[0m_parent_header\u001b[0m\u001b[0;34m,\u001b[0m\u001b[0;34m\u001b[0m\u001b[0;34m\u001b[0m\u001b[0m\n\u001b[0;32m--> 705\u001b[0;31m             \u001b[0mpassword\u001b[0m\u001b[0;34m=\u001b[0m\u001b[0;32mFalse\u001b[0m\u001b[0;34m,\u001b[0m\u001b[0;34m\u001b[0m\u001b[0;34m\u001b[0m\u001b[0m\n\u001b[0m\u001b[1;32m    706\u001b[0m         )\n\u001b[1;32m    707\u001b[0m \u001b[0;34m\u001b[0m\u001b[0m\n",
            "\u001b[0;32m/usr/local/lib/python3.6/dist-packages/ipykernel/kernelbase.py\u001b[0m in \u001b[0;36m_input_request\u001b[0;34m(self, prompt, ident, parent, password)\u001b[0m\n\u001b[1;32m    733\u001b[0m             \u001b[0;32mexcept\u001b[0m \u001b[0mKeyboardInterrupt\u001b[0m\u001b[0;34m:\u001b[0m\u001b[0;34m\u001b[0m\u001b[0;34m\u001b[0m\u001b[0m\n\u001b[1;32m    734\u001b[0m                 \u001b[0;31m# re-raise KeyboardInterrupt, to truncate traceback\u001b[0m\u001b[0;34m\u001b[0m\u001b[0;34m\u001b[0m\u001b[0;34m\u001b[0m\u001b[0m\n\u001b[0;32m--> 735\u001b[0;31m                 \u001b[0;32mraise\u001b[0m \u001b[0mKeyboardInterrupt\u001b[0m\u001b[0;34m\u001b[0m\u001b[0;34m\u001b[0m\u001b[0m\n\u001b[0m\u001b[1;32m    736\u001b[0m             \u001b[0;32melse\u001b[0m\u001b[0;34m:\u001b[0m\u001b[0;34m\u001b[0m\u001b[0;34m\u001b[0m\u001b[0m\n\u001b[1;32m    737\u001b[0m                 \u001b[0;32mbreak\u001b[0m\u001b[0;34m\u001b[0m\u001b[0;34m\u001b[0m\u001b[0m\n",
            "\u001b[0;31mKeyboardInterrupt\u001b[0m: "
          ]
        }
      ]
    },
    {
      "cell_type": "code",
      "metadata": {
        "id": "ecK62B_tm-B6",
        "colab_type": "code",
        "colab": {}
      },
      "source": [
        ""
      ],
      "execution_count": 0,
      "outputs": []
    },
    {
      "cell_type": "code",
      "metadata": {
        "id": "QUoJJYcZBMF5",
        "colab_type": "code",
        "colab": {
          "base_uri": "https://localhost:8080/",
          "height": 243
        },
        "outputId": "e1b38baa-b950-4ea3-95e9-7b822611cfde"
      },
      "source": [
        "from sklearn.metrics import classification_report\n",
        "y_pred = np.argmax(ypred,axis=1)\n",
        "y_pred = y_pred.round()\n",
        "print(\"Predicted labels\")\n",
        "print(y_pred)\n",
        "print(\"Test labels\")\n",
        "print(y_test)\n",
        "target_names = ['Not Phished - Class 0','Phished - Class 1']\n",
        "print(classification_report(y_test ,y_pred , target_names = target_names ,zero_division=True))"
      ],
      "execution_count": 57,
      "outputs": [
        {
          "output_type": "stream",
          "text": [
            "Predicted labels\n",
            "[0 0 0 ... 0 0 0]\n",
            "Test labels\n",
            "[0 0 0 ... 1 1 0]\n",
            "                       precision    recall  f1-score   support\n",
            "\n",
            "Not Phished - Class 0       0.43      1.00      0.60      1565\n",
            "    Phished - Class 1       1.00      0.00      0.00      2084\n",
            "\n",
            "             accuracy                           0.43      3649\n",
            "            macro avg       0.71      0.50      0.30      3649\n",
            "         weighted avg       0.76      0.43      0.26      3649\n",
            "\n"
          ],
          "name": "stdout"
        }
      ]
    }
  ]
}