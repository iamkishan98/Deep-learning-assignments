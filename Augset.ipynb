{
  "nbformat": 4,
  "nbformat_minor": 0,
  "metadata": {
    "colab": {
      "name": "Augset.ipynb",
      "provenance": [],
      "collapsed_sections": [],
      "machine_shape": "hm",
      "authorship_tag": "ABX9TyP8i1cmHy9N5zXvoRev6NMp",
      "include_colab_link": true
    },
    "kernelspec": {
      "name": "python3",
      "display_name": "Python 3"
    }
  },
  "cells": [
    {
      "cell_type": "markdown",
      "metadata": {
        "id": "view-in-github",
        "colab_type": "text"
      },
      "source": [
        "<a href=\"https://colab.research.google.com/github/iamkishan98/Deep-learning-assignments/blob/master/Augset.ipynb\" target=\"_parent\"><img src=\"https://colab.research.google.com/assets/colab-badge.svg\" alt=\"Open In Colab\"/></a>"
      ]
    },
    {
      "cell_type": "code",
      "metadata": {
        "id": "BOGgwZkZYhSt",
        "colab_type": "code",
        "outputId": "ca45c8e6-fc27-45b0-b810-f733eb86e658",
        "colab": {
          "base_uri": "https://localhost:8080/",
          "height": 124
        }
      },
      "source": [
        "from google.colab import drive\n",
        "drive.mount('/content/drive')"
      ],
      "execution_count": 1,
      "outputs": [
        {
          "output_type": "stream",
          "text": [
            "Go to this URL in a browser: https://accounts.google.com/o/oauth2/auth?client_id=947318989803-6bn6qk8qdgf4n4g3pfee6491hc0brc4i.apps.googleusercontent.com&redirect_uri=urn%3aietf%3awg%3aoauth%3a2.0%3aoob&response_type=code&scope=email%20https%3a%2f%2fwww.googleapis.com%2fauth%2fdocs.test%20https%3a%2f%2fwww.googleapis.com%2fauth%2fdrive%20https%3a%2f%2fwww.googleapis.com%2fauth%2fdrive.photos.readonly%20https%3a%2f%2fwww.googleapis.com%2fauth%2fpeopleapi.readonly\n",
            "\n",
            "Enter your authorization code:\n",
            "··········\n",
            "Mounted at /content/drive\n"
          ],
          "name": "stdout"
        }
      ]
    },
    {
      "cell_type": "code",
      "metadata": {
        "id": "eU_w9UgzY2A4",
        "colab_type": "code",
        "outputId": "72c86ba5-f173-42b6-89e1-5b80c76004db",
        "colab": {
          "base_uri": "https://localhost:8080/",
          "height": 34
        }
      },
      "source": [
        "import os\n",
        "os.chdir('/content/drive/My Drive/Deep Learning Course 2020/classification data/')\n",
        "print(os.getcwd())"
      ],
      "execution_count": 2,
      "outputs": [
        {
          "output_type": "stream",
          "text": [
            "/content/drive/My Drive/Deep Learning Course 2020/classification data\n"
          ],
          "name": "stdout"
        }
      ]
    },
    {
      "cell_type": "code",
      "metadata": {
        "id": "_hXf7OJiZEG3",
        "colab_type": "code",
        "outputId": "7d637687-5b43-4d94-d46a-fb71fb4bafc1",
        "colab": {
          "base_uri": "https://localhost:8080/",
          "height": 52
        }
      },
      "source": [
        "import numpy as np\n",
        "from matplotlib import pyplot as plt\n",
        "aug_xtrain = np.load(\"Aug_PCB/s_x_train.npy\")\n",
        "aug_ytrain = np.load(\"Aug_PCB/s_y_train.npy\")\n",
        "print(aug_xtrain.shape)\n",
        "print(aug_ytrain.shape)"
      ],
      "execution_count": 3,
      "outputs": [
        {
          "output_type": "stream",
          "text": [
            "(5040, 300, 300, 3)\n",
            "(5040,)\n"
          ],
          "name": "stdout"
        }
      ]
    },
    {
      "cell_type": "code",
      "metadata": {
        "id": "xMeFG6R9cWPz",
        "colab_type": "code",
        "outputId": "c5ec6e29-a096-4252-a932-9afdac3a3fe7",
        "colab": {
          "base_uri": "https://localhost:8080/",
          "height": 1000
        }
      },
      "source": [
        "import keras\n",
        "import matplotlib.pyplot as plt\n",
        "%matplotlib inline\n",
        "\n",
        "aug_xtrain = aug_xtrain.astype('float32')\n",
        "print(np.max(aug_xtrain),np.max(aug_ytrain))\n",
        "print(np.min(aug_xtrain),np.min(aug_ytrain))\n",
        "\n",
        "mean = np.mean(aug_xtrain)\n",
        "std = np.std(aug_xtrain)\n",
        "\n",
        "print(mean)\n",
        "print(std)\n",
        "\n",
        "aug_xtrain = aug_xtrain - mean\n",
        "aug_xtrain = aug_xtrain/std\n",
        "\n",
        "print(np.max(aug_xtrain),np.max(aug_ytrain))\n",
        "print(np.min(aug_xtrain),np.min(aug_ytrain))\n",
        "print(aug_xtrain)\n",
        "\n",
        "plt.imshow(aug_xtrain[149] , cmap='gray')"
      ],
      "execution_count": 4,
      "outputs": [
        {
          "output_type": "stream",
          "text": [
            "Using TensorFlow backend.\n"
          ],
          "name": "stderr"
        },
        {
          "output_type": "stream",
          "text": [
            "1.0 1.0\n",
            "0.0 0.0\n",
            "0.20878915\n",
            "0.20782994\n",
            "3.807011 1.0\n"
          ],
          "name": "stdout"
        },
        {
          "output_type": "stream",
          "text": [
            "Clipping input data to the valid range for imshow with RGB data ([0..1] for floats or [0..255] for integers).\n"
          ],
          "name": "stderr"
        },
        {
          "output_type": "stream",
          "text": [
            "-1.0046154 0.0\n",
            "[[[[-0.6649711  -0.4385417  -0.30645782]\n",
            "   [-0.7215786  -0.47627994 -0.34419605]\n",
            "   [-0.7215786  -0.49514908 -0.34419605]\n",
            "   ...\n",
            "   [-0.7404477  -0.49514908 -0.36306518]\n",
            "   [-0.7215786  -0.4385417  -0.34419605]\n",
            "   [-0.60836375 -0.30645782 -0.23098134]]\n",
            "\n",
            "  [[-0.646102   -0.4385417  -0.2875887 ]\n",
            "   [-0.6649711  -0.45741084 -0.30645782]\n",
            "   [-0.646102   -0.4385417  -0.26871958]\n",
            "   ...\n",
            "   [-0.7215786  -0.49514908 -0.36306518]\n",
            "   [-0.7027094  -0.45741084 -0.32532695]\n",
            "   [-0.5894947  -0.32532695 -0.23098134]]\n",
            "\n",
            "  [[-0.6272329  -0.4385417  -0.26871958]\n",
            "   [-0.646102   -0.4385417  -0.26871958]\n",
            "   [-0.6838403  -0.41967258 -0.24985045]\n",
            "   ...\n",
            "   [-0.7215786  -0.49514908 -0.38193431]\n",
            "   [-0.7027094  -0.49514908 -0.36306518]\n",
            "   [-0.55175644 -0.30645782 -0.19324309]]\n",
            "\n",
            "  ...\n",
            "\n",
            "  [[-0.41967258  0.07092462  0.10866286]\n",
            "   [-0.41967258  0.07092462  0.08979373]\n",
            "   [-0.34419605  0.07092462  0.07092462]\n",
            "   ...\n",
            "   [-0.6838403  -0.4385417  -0.2875887 ]\n",
            "   [-0.7215786  -0.47627994 -0.34419605]\n",
            "   [-0.7215786  -0.47627994 -0.36306518]]\n",
            "\n",
            "  [[-0.41967258  0.07092462  0.08979373]\n",
            "   [-0.40080342  0.05205549  0.08979373]\n",
            "   [-0.36306518  0.07092462  0.08979373]\n",
            "   ...\n",
            "   [-0.7027094  -0.45741084 -0.32532695]\n",
            "   [-0.7404477  -0.49514908 -0.34419605]\n",
            "   [-0.7215786  -0.47627994 -0.34419605]]\n",
            "\n",
            "  [[-0.38193431  0.07092462  0.07092462]\n",
            "   [-0.34419605  0.08979373  0.1464011 ]\n",
            "   [-0.32532695  0.07092462  0.10866286]\n",
            "   ...\n",
            "   [-0.6838403  -0.47627994 -0.34419605]\n",
            "   [-0.7215786  -0.47627994 -0.36306518]\n",
            "   [-0.6838403  -0.45741084 -0.30645782]]]\n",
            "\n",
            "\n",
            " [[[-0.34419605 -0.02342099 -0.04229011]\n",
            "   [-0.4385417  -0.13663572 -0.09889748]\n",
            "   [-0.55175644 -0.30645782 -0.19324309]\n",
            "   ...\n",
            "   [-0.6838403  -0.4385417  -0.26871958]\n",
            "   [-0.6649711  -0.45741084 -0.24985045]\n",
            "   [-0.646102   -0.45741084 -0.26871958]]\n",
            "\n",
            "  [[-0.41967258 -0.06115924 -0.04229011]\n",
            "   [-0.47627994 -0.17437397 -0.09889748]\n",
            "   [-0.55175644 -0.32532695 -0.17437397]\n",
            "   ...\n",
            "   [-0.6838403  -0.45741084 -0.26871958]\n",
            "   [-0.6649711  -0.47627994 -0.24985045]\n",
            "   [-0.6838403  -0.47627994 -0.30645782]]\n",
            "\n",
            "  [[-0.41967258 -0.04229011 -0.00455187]\n",
            "   [-0.55175644 -0.24985045 -0.1177666 ]\n",
            "   [-0.60836375 -0.40080342 -0.23098134]\n",
            "   ...\n",
            "   [-0.7027094  -0.49514908 -0.30645782]\n",
            "   [-0.7027094  -0.5140182  -0.30645782]\n",
            "   [-0.7215786  -0.49514908 -0.36306518]]\n",
            "\n",
            "  ...\n",
            "\n",
            "  [[-0.6649711  -0.45741084 -0.24985045]\n",
            "   [-0.646102   -0.41967258 -0.2121122 ]\n",
            "   [-0.6272329  -0.41967258 -0.23098134]\n",
            "   ...\n",
            "   [-0.6838403  -0.40080342 -0.30645782]\n",
            "   [-0.7027094  -0.40080342 -0.30645782]\n",
            "   [-0.7215786  -0.4385417  -0.32532695]]\n",
            "\n",
            "  [[-0.6838403  -0.4385417  -0.2875887 ]\n",
            "   [-0.6272329  -0.4385417  -0.26871958]\n",
            "   [-0.5894947  -0.41967258 -0.23098134]\n",
            "   ...\n",
            "   [-0.7027094  -0.40080342 -0.30645782]\n",
            "   [-0.6838403  -0.40080342 -0.30645782]\n",
            "   [-0.7027094  -0.4385417  -0.34419605]]\n",
            "\n",
            "  [[-0.6838403  -0.4385417  -0.32532695]\n",
            "   [-0.6838403  -0.49514908 -0.34419605]\n",
            "   [-0.6272329  -0.45741084 -0.30645782]\n",
            "   ...\n",
            "   [-0.6838403  -0.41967258 -0.2875887 ]\n",
            "   [-0.6838403  -0.41967258 -0.30645782]\n",
            "   [-0.7027094  -0.41967258 -0.34419605]]]\n",
            "\n",
            "\n",
            " [[[-0.7215786  -0.45741084 -0.34419605]\n",
            "   [-0.7215786  -0.45741084 -0.34419605]\n",
            "   [-0.7404477  -0.45741084 -0.34419605]\n",
            "   ...\n",
            "   [-0.57062554 -0.02342099  0.07092462]\n",
            "   [-0.55175644 -0.02342099  0.08979373]\n",
            "   [-0.55175644 -0.02342099  0.10866286]]\n",
            "\n",
            "  [[-0.7027094  -0.47627994 -0.34419605]\n",
            "   [-0.7215786  -0.47627994 -0.34419605]\n",
            "   [-0.7215786  -0.47627994 -0.34419605]\n",
            "   ...\n",
            "   [-0.55175644 -0.04229011  0.07092462]\n",
            "   [-0.53288734 -0.02342099  0.10866286]\n",
            "   [-0.5140182  -0.02342099  0.12753198]]\n",
            "\n",
            "  [[-0.7027094  -0.47627994 -0.34419605]\n",
            "   [-0.7215786  -0.47627994 -0.34419605]\n",
            "   [-0.7215786  -0.47627994 -0.34419605]\n",
            "   ...\n",
            "   [-0.55175644 -0.04229011  0.07092462]\n",
            "   [-0.53288734 -0.02342099  0.10866286]\n",
            "   [-0.5140182  -0.02342099  0.12753198]]\n",
            "\n",
            "  ...\n",
            "\n",
            "  [[-0.7215786  -0.7404477  -0.7404477 ]\n",
            "   [-0.7593168  -0.7593168  -0.7593168 ]\n",
            "   [-0.81592417 -0.7593168  -0.77818596]\n",
            "   ...\n",
            "   [-0.53288734 -0.00455187  0.12753198]\n",
            "   [-0.5140182  -0.00455187  0.10866286]\n",
            "   [-0.5140182  -0.00455187  0.10866286]]\n",
            "\n",
            "  [[-0.7027094  -0.7404477  -0.7404477 ]\n",
            "   [-0.7404477  -0.7593168  -0.7593168 ]\n",
            "   [-0.79705507 -0.7404477  -0.77818596]\n",
            "   ...\n",
            "   [-0.55175644 -0.00455187  0.10866286]\n",
            "   [-0.53288734  0.01431725  0.10866286]\n",
            "   [-0.53288734  0.01431725  0.10866286]]\n",
            "\n",
            "  [[-0.7027094  -0.7215786  -0.7404477 ]\n",
            "   [-0.7404477  -0.7404477  -0.7593168 ]\n",
            "   [-0.79705507 -0.7404477  -0.81592417]\n",
            "   ...\n",
            "   [-0.55175644 -0.00455187  0.10866286]\n",
            "   [-0.53288734  0.01431725  0.10866286]\n",
            "   [-0.53288734  0.01431725  0.10866286]]]\n",
            "\n",
            "\n",
            " ...\n",
            "\n",
            "\n",
            " [[[-0.87253153 -0.79705507 -0.85366243]\n",
            "   [-0.87253153 -0.79705507 -0.87253153]\n",
            "   [-0.8914007  -0.79705507 -0.8914007 ]\n",
            "   ...\n",
            "   [-0.6838403  -0.34419605 -0.17437397]\n",
            "   [-0.6838403  -0.34419605 -0.17437397]\n",
            "   [-0.6838403  -0.38193431 -0.2121122 ]]\n",
            "\n",
            "  [[-0.87253153 -0.79705507 -0.87253153]\n",
            "   [-0.85366243 -0.79705507 -0.85366243]\n",
            "   [-0.85366243 -0.79705507 -0.87253153]\n",
            "   ...\n",
            "   [-0.6649711  -0.32532695 -0.15550485]\n",
            "   [-0.6838403  -0.36306518 -0.19324309]\n",
            "   [-0.7215786  -0.38193431 -0.23098134]]\n",
            "\n",
            "  [[-0.87253153 -0.81592417 -0.87253153]\n",
            "   [-0.85366243 -0.79705507 -0.87253153]\n",
            "   [-0.85366243 -0.81592417 -0.87253153]\n",
            "   ...\n",
            "   [-0.7027094  -0.38193431 -0.17437397]\n",
            "   [-0.7215786  -0.40080342 -0.23098134]\n",
            "   [-0.7027094  -0.38193431 -0.23098134]]\n",
            "\n",
            "  ...\n",
            "\n",
            "  [[-0.77818596 -0.49514908 -0.36306518]\n",
            "   [-0.81592417 -0.53288734 -0.40080342]\n",
            "   [-0.79705507 -0.49514908 -0.36306518]\n",
            "   ...\n",
            "   [-0.7027094  -0.45741084 -0.26871958]\n",
            "   [-0.7027094  -0.45741084 -0.2875887 ]\n",
            "   [-0.7404477  -0.47627994 -0.32532695]]\n",
            "\n",
            "  [[-0.7027094  -0.36306518 -0.30645782]\n",
            "   [-0.7215786  -0.40080342 -0.32532695]\n",
            "   [-0.7027094  -0.36306518 -0.30645782]\n",
            "   ...\n",
            "   [-0.7593168  -0.49514908 -0.34419605]\n",
            "   [-0.77818596 -0.5140182  -0.34419605]\n",
            "   [-0.77818596 -0.5140182  -0.34419605]]\n",
            "\n",
            "  [[-0.55175644 -0.15550485 -0.15550485]\n",
            "   [-0.57062554 -0.17437397 -0.15550485]\n",
            "   [-0.55175644 -0.15550485 -0.13663572]\n",
            "   ...\n",
            "   [-0.81592417 -0.5140182  -0.38193431]\n",
            "   [-0.8347933  -0.55175644 -0.41967258]\n",
            "   [-0.8347933  -0.55175644 -0.4385417 ]]]\n",
            "\n",
            "\n",
            " [[[-0.47627994 -0.00455187  0.07092462]\n",
            "   [-0.57062554 -0.08002836 -0.00455187]\n",
            "   [-0.646102   -0.1177666  -0.06115924]\n",
            "   ...\n",
            "   [-0.7027094  -0.15550485 -0.08002836]\n",
            "   [-0.7215786  -0.15550485 -0.09889748]\n",
            "   [-0.7404477  -0.17437397 -0.1177666 ]]\n",
            "\n",
            "  [[-0.55175644 -0.08002836 -0.00455187]\n",
            "   [-0.6272329  -0.1177666  -0.06115924]\n",
            "   [-0.6838403  -0.13663572 -0.08002836]\n",
            "   ...\n",
            "   [-0.7215786  -0.15550485 -0.04229011]\n",
            "   [-0.7027094  -0.13663572 -0.04229011]\n",
            "   [-0.6838403  -0.1177666  -0.04229011]]\n",
            "\n",
            "  [[-0.646102   -0.13663572 -0.06115924]\n",
            "   [-0.646102   -0.13663572 -0.08002836]\n",
            "   [-0.646102   -0.1177666  -0.08002836]\n",
            "   ...\n",
            "   [-0.6838403  -0.1177666  -0.00455187]\n",
            "   [-0.7027094  -0.15550485 -0.02342099]\n",
            "   [-0.6649711  -0.1177666  -0.02342099]]\n",
            "\n",
            "  ...\n",
            "\n",
            "  [[ 3.203199    2.3918266   1.1087264 ]\n",
            "   [ 3.1277225   2.3918266   1.0898572 ]\n",
            "   [ 3.222068    2.5427797   1.2408103 ]\n",
            "   ...\n",
            "   [-0.7404477  -0.2121122  -0.04229011]\n",
            "   [-0.7027094  -0.19324309 -0.02342099]\n",
            "   [-0.6838403  -0.17437397 -0.02342099]]\n",
            "\n",
            "  [[ 3.1654608   2.3352194   1.1275955 ]\n",
            "   [ 3.1654608   2.3540885   1.0898572 ]\n",
            "   [ 3.2409372   2.4673033   1.2219412 ]\n",
            "   ...\n",
            "   [-0.7215786  -0.19324309 -0.06115924]\n",
            "   [-0.7027094  -0.19324309 -0.08002836]\n",
            "   [-0.7215786  -0.19324309 -0.08002836]]\n",
            "\n",
            "  [[ 3.033377    2.1653972   1.0332499 ]\n",
            "   [ 3.1088533   2.278612    1.1087264 ]\n",
            "   [ 3.1654608   2.3918266   1.2030721 ]\n",
            "   ...\n",
            "   [-0.7027094  -0.17437397 -0.02342099]\n",
            "   [-0.7027094  -0.17437397 -0.04229011]\n",
            "   [-0.7027094  -0.17437397 -0.04229011]]]\n",
            "\n",
            "\n",
            " [[[-0.00455187  0.24074678 -0.06115924]\n",
            "   [ 1.354025    1.052119    0.50491446]\n",
            "   [ 2.7314708   2.0899208   1.1842029 ]\n",
            "   ...\n",
            "   [-0.45741084  0.07092462 -0.02342099]\n",
            "   [-0.49514908  0.08979373  0.03318637]\n",
            "   [-0.55175644  0.01431725 -0.02342099]]\n",
            "\n",
            "  [[-0.06115924  0.10866286 -0.17437397]\n",
            "   [ 1.1842029   1.0143808   0.46717626]\n",
            "   [ 2.6371253   2.127659    1.1842029 ]\n",
            "   ...\n",
            "   [-0.4385417   0.10866286 -0.00455187]\n",
            "   [-0.47627994  0.05205549 -0.00455187]\n",
            "   [-0.57062554 -0.02342099 -0.08002836]]\n",
            "\n",
            "  [[-0.06115924  0.20300853 -0.08002836]\n",
            "   [ 1.1842029   0.9389043   0.4105689 ]\n",
            "   [ 2.5616488   1.9955752   1.1087264 ]\n",
            "   ...\n",
            "   [-0.47627994 -0.00455187 -0.04229011]\n",
            "   [-0.49514908  0.01431725 -0.00455187]\n",
            "   [-0.55175644 -0.04229011 -0.06115924]]\n",
            "\n",
            "  ...\n",
            "\n",
            "  [[-0.55175644 -0.04229011  0.05205549]\n",
            "   [-0.55175644 -0.06115924  0.03318637]\n",
            "   [-0.49514908 -0.04229011  0.03318637]\n",
            "   ...\n",
            "   [-0.5140182  -0.2875887  -0.26871958]\n",
            "   [-0.6838403  -0.4385417  -0.36306518]\n",
            "   [-0.7404477  -0.47627994 -0.4385417 ]]\n",
            "\n",
            "  [[-0.5894947  -0.06115924  0.03318637]\n",
            "   [-0.60836375 -0.08002836  0.01431725]\n",
            "   [-0.57062554 -0.06115924 -0.00455187]\n",
            "   ...\n",
            "   [-0.57062554 -0.32532695 -0.26871958]\n",
            "   [-0.7215786  -0.45741084 -0.38193431]\n",
            "   [-0.7404477  -0.47627994 -0.4385417 ]]\n",
            "\n",
            "  [[-0.60836375 -0.02342099  0.01431725]\n",
            "   [-0.6272329  -0.04229011  0.01431725]\n",
            "   [-0.60836375 -0.04229011  0.01431725]\n",
            "   ...\n",
            "   [-0.6272329  -0.34419605 -0.30645782]\n",
            "   [-0.7027094  -0.4385417  -0.34419605]\n",
            "   [-0.7215786  -0.49514908 -0.40080342]]]]\n"
          ],
          "name": "stdout"
        },
        {
          "output_type": "execute_result",
          "data": {
            "text/plain": [
              "<matplotlib.image.AxesImage at 0x7f071a072048>"
            ]
          },
          "metadata": {
            "tags": []
          },
          "execution_count": 4
        },
        {
          "output_type": "display_data",
          "data": {
            "image/png": "[encoded data removed]",
            "text/plain": [
              "<Figure size 432x288 with 1 Axes>"
            ]
          },
          "metadata": {
            "tags": [],
            "needs_background": "light"
          }
        }
      ]
    },
    {
      "cell_type": "code",
      "metadata": {
        "id": "YR6GcooNknKE",
        "colab_type": "code",
        "outputId": "45d43328-38e4-4d91-b215-c756da41a909",
        "colab": {
          "base_uri": "https://localhost:8080/",
          "height": 34
        }
      },
      "source": [
        "from keras.utils import to_categorical\n",
        "aug_ytrain = to_categorical(aug_ytrain)\n",
        "print(aug_ytrain[149])"
      ],
      "execution_count": 5,
      "outputs": [
        {
          "output_type": "stream",
          "text": [
            "[1. 0.]\n"
          ],
          "name": "stdout"
        }
      ]
    },
    {
      "cell_type": "code",
      "metadata": {
        "id": "nW3u3Mf-jMco",
        "colab_type": "code",
        "colab": {}
      },
      "source": [
        "import tensorflow as tf"
      ],
      "execution_count": 0,
      "outputs": []
    },
    {
      "cell_type": "code",
      "metadata": {
        "id": "wy9JEVxtinzb",
        "colab_type": "code",
        "colab": {}
      },
      "source": [
        "#import tensorflow as tf\n",
        "from tensorflow import keras \n",
        "from tensorflow.keras import models\n",
        "from tensorflow.keras import layers"
      ],
      "execution_count": 0,
      "outputs": []
    },
    {
      "cell_type": "code",
      "metadata": {
        "id": "IIS07_mfYa9S",
        "colab_type": "code",
        "colab": {}
      },
      "source": [
        "from sklearn.model_selection import train_test_split\n",
        "X_train , X_test , y_train , y_test = train_test_split(aug_xtrain , aug_ytrain , test_size=0.25)"
      ],
      "execution_count": 0,
      "outputs": []
    },
    {
      "cell_type": "code",
      "metadata": {
        "id": "VZKCYZAasAU7",
        "colab_type": "code",
        "outputId": "afe1f814-b872-45fd-cefa-8b7e0a49d168",
        "colab": {
          "base_uri": "https://localhost:8080/",
          "height": 434
        }
      },
      "source": [
        "model = models.Sequential()\n",
        "model.add(layers.Conv2D(16,(5,5), input_shape=(300,300,3) , activation='relu' ,strides=(2,2) , padding='valid'))\n",
        "model.add(layers.AveragePooling2D(pool_size=(2,2) , strides=(2,2)))\n",
        "\n",
        "\n",
        "model.add(layers.Conv2D(16, (5,5),activation='relu', strides=(1,1), padding='valid'))\n",
        "model.add(layers.AveragePooling2D(pool_size=(2,2), strides=(2,2)))\n",
        "\n",
        "model.add(layers.Flatten())\n",
        "\n",
        "model.add(layers.Dense(120, activation='relu'))\n",
        "model.add(layers.Dense(84, activation='relu'))\n",
        "\n",
        "\n",
        "model.add(layers.Dense(2, activation='softmax'))\n",
        "\n",
        "model.summary()"
      ],
      "execution_count": 9,
      "outputs": [
        {
          "output_type": "stream",
          "text": [
            "Model: \"sequential\"\n",
            "_________________________________________________________________\n",
            "Layer (type)                 Output Shape              Param #   \n",
            "=================================================================\n",
            "conv2d (Conv2D)              (None, 148, 148, 16)      1216      \n",
            "_________________________________________________________________\n",
            "average_pooling2d (AveragePo (None, 74, 74, 16)        0         \n",
            "_________________________________________________________________\n",
            "conv2d_1 (Conv2D)            (None, 70, 70, 16)        6416      \n",
            "_________________________________________________________________\n",
            "average_pooling2d_1 (Average (None, 35, 35, 16)        0         \n",
            "_________________________________________________________________\n",
            "flatten (Flatten)            (None, 19600)             0         \n",
            "_________________________________________________________________\n",
            "dense (Dense)                (None, 120)               2352120   \n",
            "_________________________________________________________________\n",
            "dense_1 (Dense)              (None, 84)                10164     \n",
            "_________________________________________________________________\n",
            "dense_2 (Dense)              (None, 2)                 170       \n",
            "=================================================================\n",
            "Total params: 2,370,086\n",
            "Trainable params: 2,370,086\n",
            "Non-trainable params: 0\n",
            "_________________________________________________________________\n"
          ],
          "name": "stdout"
        }
      ]
    },
    {
      "cell_type": "code",
      "metadata": {
        "id": "NLw1pwkVyyIA",
        "colab_type": "code",
        "outputId": "a1de3927-b8d6-4e60-82d1-5489132541e7",
        "colab": {
          "base_uri": "https://localhost:8080/",
          "height": 712
        }
      },
      "source": [
        "#model.compile(optimizer=keras.optimizers.SGD(),  # Optimizer\n",
        "              # Loss function to minimize\n",
        "              #loss ='mean_squared_error',\n",
        " #             loss=keras.losses.SparseCategoricalCrossentropy(from_logits=True),\n",
        "              # List of metrics to monitor\n",
        "  #            metrics=['sparse_categorical_accuracy'])\n",
        "model.compile(loss=\"categorical_crossentropy\", optimizer=\"sgd\", metrics=['accuracy'])\n",
        "\n",
        "history=model.fit(X_train,y_train , batch_size=256 , epochs=20 , verbose=1)"
      ],
      "execution_count": 10,
      "outputs": [
        {
          "output_type": "stream",
          "text": [
            "Epoch 1/20\n",
            "15/15 [==============================] - 40s 3s/step - loss: 0.6086 - accuracy: 0.6791\n",
            "Epoch 2/20\n",
            "15/15 [==============================] - 41s 3s/step - loss: 0.4860 - accuracy: 0.7812\n",
            "Epoch 3/20\n",
            "15/15 [==============================] - 41s 3s/step - loss: 0.3620 - accuracy: 0.8587\n",
            "Epoch 4/20\n",
            "15/15 [==============================] - 40s 3s/step - loss: 0.3269 - accuracy: 0.8720\n",
            "Epoch 5/20\n",
            "15/15 [==============================] - 40s 3s/step - loss: 0.2901 - accuracy: 0.8873\n",
            "Epoch 6/20\n",
            "15/15 [==============================] - 41s 3s/step - loss: 0.2341 - accuracy: 0.9132\n",
            "Epoch 7/20\n",
            "15/15 [==============================] - 41s 3s/step - loss: 0.2269 - accuracy: 0.9148\n",
            "Epoch 8/20\n",
            "15/15 [==============================] - 41s 3s/step - loss: 0.2128 - accuracy: 0.9148\n",
            "Epoch 9/20\n",
            "15/15 [==============================] - 41s 3s/step - loss: 0.1659 - accuracy: 0.9333\n",
            "Epoch 10/20\n",
            "15/15 [==============================] - 41s 3s/step - loss: 0.1442 - accuracy: 0.9476\n",
            "Epoch 11/20\n",
            "15/15 [==============================] - 41s 3s/step - loss: 0.1302 - accuracy: 0.9508\n",
            "Epoch 12/20\n",
            "15/15 [==============================] - 41s 3s/step - loss: 0.5013 - accuracy: 0.8360\n",
            "Epoch 13/20\n",
            "15/15 [==============================] - 41s 3s/step - loss: 0.1917 - accuracy: 0.9347\n",
            "Epoch 14/20\n",
            "15/15 [==============================] - 41s 3s/step - loss: 0.1426 - accuracy: 0.9484\n",
            "Epoch 15/20\n",
            "15/15 [==============================] - 41s 3s/step - loss: 0.1196 - accuracy: 0.9590\n",
            "Epoch 16/20\n",
            "15/15 [==============================] - 41s 3s/step - loss: 0.1083 - accuracy: 0.9616\n",
            "Epoch 17/20\n",
            "15/15 [==============================] - 42s 3s/step - loss: 0.0953 - accuracy: 0.9672\n",
            "Epoch 18/20\n",
            "15/15 [==============================] - 41s 3s/step - loss: 0.0880 - accuracy: 0.9677\n",
            "Epoch 19/20\n",
            "15/15 [==============================] - 41s 3s/step - loss: 0.0819 - accuracy: 0.9717\n",
            "Epoch 20/20\n",
            "15/15 [==============================] - 41s 3s/step - loss: 0.0753 - accuracy: 0.9733\n"
          ],
          "name": "stdout"
        }
      ]
    },
    {
      "cell_type": "code",
      "metadata": {
        "id": "pfBT6DuqZAkq",
        "colab_type": "code",
        "colab": {
          "base_uri": "https://localhost:8080/",
          "height": 69
        },
        "outputId": "20bd0a53-4f4c-4c86-dfce-c1dbf16c314c"
      },
      "source": [
        "test_loss , test_acc = model.evaluate(X_test,y_test)\n",
        "print(\"Test loss : \",test_loss)\n",
        "print(\"Test Accuracy : \",test_acc)"
      ],
      "execution_count": 11,
      "outputs": [
        {
          "output_type": "stream",
          "text": [
            "40/40 [==============================] - 4s 107ms/step - loss: 0.1363 - accuracy: 0.9492\n",
            "Test loss :  0.13625763356685638\n",
            "Test Accuracy :  0.9492063522338867\n"
          ],
          "name": "stdout"
        }
      ]
    },
    {
      "cell_type": "code",
      "metadata": {
        "id": "vNH4JFSwcwe_",
        "colab_type": "code",
        "colab": {
          "base_uri": "https://localhost:8080/",
          "height": 173
        },
        "outputId": "8d9cecb2-e9bb-4d2a-9161-7d5547f8397a"
      },
      "source": [
        "from sklearn.metrics import classification_report,confusion_matrix\n",
        "import itertools\n",
        "y_pred = model.predict(X_test)\n",
        "y_pred = np.argmax(y_pred , axis=1)\n",
        "target_names = ['class 0','class 1']\n",
        "print(classification_report(np.argmax(y_test , axis=1) , y_pred , target_names=target_names))"
      ],
      "execution_count": 12,
      "outputs": [
        {
          "output_type": "stream",
          "text": [
            "              precision    recall  f1-score   support\n",
            "\n",
            "     class 0       0.92      0.98      0.95       637\n",
            "     class 1       0.98      0.91      0.95       623\n",
            "\n",
            "    accuracy                           0.95      1260\n",
            "   macro avg       0.95      0.95      0.95      1260\n",
            "weighted avg       0.95      0.95      0.95      1260\n",
            "\n"
          ],
          "name": "stdout"
        }
      ]
    }
  ]
}