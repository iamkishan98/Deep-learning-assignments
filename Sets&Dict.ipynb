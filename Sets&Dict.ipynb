{
  "nbformat": 4,
  "nbformat_minor": 0,
  "metadata": {
    "colab": {
      "name": "Sets&Dict.ipynb",
      "provenance": [],
      "collapsed_sections": [],
      "authorship_tag": "ABX9TyNpuC/aGh/NX9yMtz6QUUhN",
      "include_colab_link": true
    },
    "kernelspec": {
      "name": "python3",
      "display_name": "Python 3"
    }
  },
  "cells": [
    {
      "cell_type": "markdown",
      "metadata": {
        "id": "view-in-github",
        "colab_type": "text"
      },
      "source": [
        "<a href=\"https://colab.research.google.com/github/iamkishan98/Deep-learning-assignments/blob/master/Sets%26Dict.ipynb\" target=\"_parent\"><img src=\"https://colab.research.google.com/assets/colab-badge.svg\" alt=\"Open In Colab\"/></a>"
      ]
    },
    {
      "cell_type": "code",
      "metadata": {
        "id": "Sbxv6JvujyLK",
        "colab_type": "code",
        "outputId": "26e62d7e-f387-405e-9131-8c18e912df5c",
        "colab": {
          "base_uri": "https://localhost:8080/",
          "height": 191
        }
      },
      "source": [
        "# Sets\n",
        "a ={3,45,6}\n",
        "print(a)\n",
        "len(a)\n",
        "a.add(500)\n",
        "a.remove(45)\n",
        "print(a)\n",
        "del a\n",
        "c = {1,2,4}\n",
        "d ={1,3,5}\n",
        "print(c|d)\n",
        "print(c-d)\n",
        "#print(cd)\n",
        "print(c&d)\n",
        "\n",
        "# Dictionary\n",
        "\n",
        "a = {'sach':98,'Kohli':102}\n",
        "print(a)\n",
        "print(type(a))\n",
        "print(a.keys())\n",
        "a.values()\n",
        "\n",
        "a.update({'rahul':120})\n",
        "print(a)\n",
        "a"
      ],
      "execution_count": 0,
      "outputs": [
        {
          "output_type": "stream",
          "text": [
            "{3, 45, 6}\n",
            "{3, 500, 6}\n",
            "{1, 2, 3, 4, 5}\n",
            "{2, 4}\n",
            "{1}\n",
            "{'sach': 98, 'Kohli': 102}\n",
            "<class 'dict'>\n",
            "dict_keys(['sach', 'Kohli'])\n",
            "{'sach': 98, 'Kohli': 102, 'rahul': 120}\n"
          ],
          "name": "stdout"
        },
        {
          "output_type": "execute_result",
          "data": {
            "text/plain": [
              "{'Kohli': 102, 'rahul': 120, 'sach': 98}"
            ]
          },
          "metadata": {
            "tags": []
          },
          "execution_count": 15
        }
      ]
    }
  ]
}