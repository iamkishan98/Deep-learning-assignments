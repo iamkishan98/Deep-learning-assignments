{
  "nbformat": 4,
  "nbformat_minor": 0,
  "metadata": {
    "colab": {
      "name": "lambda.ipynb",
      "provenance": [],
      "collapsed_sections": [],
      "authorship_tag": "ABX9TyNMLkRwWRXnegobBeDmEY01",
      "include_colab_link": true
    },
    "kernelspec": {
      "name": "python3",
      "display_name": "Python 3"
    }
  },
  "cells": [
    {
      "cell_type": "markdown",
      "metadata": {
        "id": "view-in-github",
        "colab_type": "text"
      },
      "source": [
        "<a href=\"https://colab.research.google.com/github/iamkishan98/Deep-learning-assignments/blob/master/lambda.ipynb\" target=\"_parent\"><img src=\"https://colab.research.google.com/assets/colab-badge.svg\" alt=\"Open In Colab\"/></a>"
      ]
    },
    {
      "cell_type": "code",
      "metadata": {
        "id": "8fIbbDBPhP_S",
        "colab_type": "code",
        "outputId": "639892cb-e8ae-4060-d9e0-4b7b34513723",
        "colab": {
          "base_uri": "https://localhost:8080/",
          "height": 173
        }
      },
      "source": [
        "import numpy as np\n",
        "a = np.array(range(6))\n",
        "print(a)\n",
        "print(type(a))\n",
        "\n",
        "b = [5,6,77,8]\n",
        "b.pop()\n",
        "print(b)\n",
        "b.clear()\n",
        "print(b)\n",
        "del b\n",
        "c =[1,2,4,3,5]\n",
        "d = list(map(lambda y:y**2,c)) # Lambda redefines the structure of list and map fun map the values to corresponding elements in an order of index of the array\n",
        "print(d)\n",
        "d = list(filter(lambda y:y%2==1,c)) # filter the list\n",
        "print(d)\n",
        "\n",
        "# Creating the tuples\n",
        "\n",
        "x = (1,2,3,4,'NITK','GPU')\n",
        "print(x)\n",
        "print(type(x))\n",
        "\n",
        "# Sets\n",
        "a ={3,45,6}\n",
        "print(a)\n",
        "len(a)\n"
      ],
      "execution_count": 0,
      "outputs": [
        {
          "output_type": "stream",
          "text": [
            "[0 1 2 3 4 5]\n",
            "<class 'numpy.ndarray'>\n",
            "[5, 6, 77]\n",
            "[]\n",
            "[1, 4, 16, 9, 25]\n",
            "[1, 3, 5]\n",
            "(1, 2, 3, 4, 'NITK', 'GPU')\n",
            "<class 'tuple'>\n",
            "{3, 45, 6}\n"
          ],
          "name": "stdout"
        }
      ]
    }
  ]
}