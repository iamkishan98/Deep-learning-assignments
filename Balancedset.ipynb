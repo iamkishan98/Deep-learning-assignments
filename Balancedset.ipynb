{
  "nbformat": 4,
  "nbformat_minor": 0,
  "metadata": {
    "colab": {
      "name": "Balancedset.ipynb",
      "provenance": [],
      "collapsed_sections": [],
      "machine_shape": "hm",
      "include_colab_link": true
    },
    "kernelspec": {
      "name": "python3",
      "display_name": "Python 3"
    }
  },
  "cells": [
    {
      "cell_type": "markdown",
      "metadata": {
        "id": "view-in-github",
        "colab_type": "text"
      },
      "source": [
        "<a href=\"https://colab.research.google.com/github/iamkishan98/Deep-learning-assignments/blob/master/Balancedset.ipynb\" target=\"_parent\"><img src=\"https://colab.research.google.com/assets/colab-badge.svg\" alt=\"Open In Colab\"/></a>"
      ]
    },
    {
      "cell_type": "code",
      "metadata": {
        "id": "9zOpWdijQvtI",
        "colab_type": "code",
        "outputId": "c185eb64-2e5a-4ec4-8029-deeb6c493124",
        "colab": {
          "base_uri": "https://localhost:8080/",
          "height": 124
        }
      },
      "source": [
        "from google.colab import drive\n",
        "drive.mount('/content/drive')\n"
      ],
      "execution_count": 1,
      "outputs": [
        {
          "output_type": "stream",
          "text": [
            "Go to this URL in a browser: https://accounts.google.com/o/oauth2/auth?client_id=947318989803-6bn6qk8qdgf4n4g3pfee6491hc0brc4i.apps.googleusercontent.com&redirect_uri=urn%3aietf%3awg%3aoauth%3a2.0%3aoob&response_type=code&scope=email%20https%3a%2f%2fwww.googleapis.com%2fauth%2fdocs.test%20https%3a%2f%2fwww.googleapis.com%2fauth%2fdrive%20https%3a%2f%2fwww.googleapis.com%2fauth%2fdrive.photos.readonly%20https%3a%2f%2fwww.googleapis.com%2fauth%2fpeopleapi.readonly\n",
            "\n",
            "Enter your authorization code:\n",
            "··········\n",
            "Mounted at /content/drive\n"
          ],
          "name": "stdout"
        }
      ]
    },
    {
      "cell_type": "code",
      "metadata": {
        "id": "M4AdPFumSW-M",
        "colab_type": "code",
        "outputId": "74ad43b5-78a6-4c2f-f138-37bdcc097f19",
        "colab": {
          "base_uri": "https://localhost:8080/",
          "height": 34
        }
      },
      "source": [
        "import os\n",
        "os.chdir('/content/drive/My Drive/Deep Learning Course 2020/classification data/')\n",
        "print(os.getcwd())"
      ],
      "execution_count": 2,
      "outputs": [
        {
          "output_type": "stream",
          "text": [
            "/content/drive/My Drive/Deep Learning Course 2020/classification data\n"
          ],
          "name": "stdout"
        }
      ]
    },
    {
      "cell_type": "code",
      "metadata": {
        "id": "VLyOGN73yFYd",
        "colab_type": "code",
        "outputId": "fd2b3ca4-a511-4e9e-c398-357dd084991f",
        "colab": {
          "base_uri": "https://localhost:8080/",
          "height": 1000
        }
      },
      "source": [
        "# Balanced Dataset\n",
        "\n",
        "import numpy as np\n",
        "from matplotlib import pyplot as plt\n",
        "bal_xtrain = np.load(\"Balanced_PCB/xtrain.npy\")\n",
        "bal_ytrain = np.load(\"Balanced_PCB/ytrain.npy\")\n",
        "print(bal_xtrain)\n",
        "print(bal_xtrain.shape)\n",
        "print(bal_ytrain)\n",
        "print(bal_ytrain.shape)"
      ],
      "execution_count": 20,
      "outputs": [
        {
          "output_type": "stream",
          "text": [
            "[[[[ 50  44  27]\n",
            "   [ 22  23   9]\n",
            "   [ 11  17  10]\n",
            "   ...\n",
            "   [ 13  30  38]\n",
            "   [ 13  31  39]\n",
            "   [ 11  31  39]]\n",
            "\n",
            "  [[ 88  78  48]\n",
            "   [ 40  36  16]\n",
            "   [ 17  20  10]\n",
            "   ...\n",
            "   [ 13  30  38]\n",
            "   [ 14  31  40]\n",
            "   [ 12  31  39]]\n",
            "\n",
            "  [[133 118  78]\n",
            "   [ 62  58  31]\n",
            "   [ 24  25  14]\n",
            "   ...\n",
            "   [ 13  31  38]\n",
            "   [ 13  31  39]\n",
            "   [ 12  31  40]]\n",
            "\n",
            "  ...\n",
            "\n",
            "  [[212 173 105]\n",
            "   [216 173 107]\n",
            "   [219 174 111]\n",
            "   ...\n",
            "   [206 170 110]\n",
            "   [210 173 110]\n",
            "   [211 173 108]]\n",
            "\n",
            "  [[214 172 104]\n",
            "   [218 175 109]\n",
            "   [221 176 112]\n",
            "   ...\n",
            "   [205 169 110]\n",
            "   [214 173 111]\n",
            "   [217 177 112]]\n",
            "\n",
            "  [[219 174 106]\n",
            "   [222 179 112]\n",
            "   [223 178 111]\n",
            "   ...\n",
            "   [209 171 114]\n",
            "   [219 176 116]\n",
            "   [223 179 115]]]\n",
            "\n",
            "\n",
            " [[[ 79  81  72]\n",
            "   [131 120  93]\n",
            "   [170 152 107]\n",
            "   ...\n",
            "   [ 17  31  36]\n",
            "   [ 22  36  40]\n",
            "   [ 29  46  48]]\n",
            "\n",
            "  [[ 60  67  67]\n",
            "   [103 100  82]\n",
            "   [156 140 104]\n",
            "   ...\n",
            "   [ 17  31  35]\n",
            "   [ 21  35  38]\n",
            "   [ 29  47  48]]\n",
            "\n",
            "  [[ 55  66  71]\n",
            "   [ 70  78  72]\n",
            "   [108 104  82]\n",
            "   ...\n",
            "   [ 17  31  34]\n",
            "   [ 20  35  37]\n",
            "   [ 30  48  49]]\n",
            "\n",
            "  ...\n",
            "\n",
            "  [[ 11  27  37]\n",
            "   [ 12  27  37]\n",
            "   [ 11  26  35]\n",
            "   ...\n",
            "   [ 18  30  40]\n",
            "   [ 19  30  38]\n",
            "   [ 21  33  40]]\n",
            "\n",
            "  [[ 13  27  37]\n",
            "   [ 14  28  38]\n",
            "   [ 13  26  37]\n",
            "   ...\n",
            "   [ 18  31  40]\n",
            "   [ 20  31  39]\n",
            "   [ 22  32  40]]\n",
            "\n",
            "  [[ 12  25  35]\n",
            "   [ 14  26  36]\n",
            "   [ 15  26  37]\n",
            "   ...\n",
            "   [ 20  32  41]\n",
            "   [ 21  31  40]\n",
            "   [ 21  32  40]]]\n",
            "\n",
            "\n",
            " [[[220 182 115]\n",
            "   [210 174 108]\n",
            "   [203 167 103]\n",
            "   ...\n",
            "   [230 191 117]\n",
            "   [207 169  98]\n",
            "   [194 158  92]]\n",
            "\n",
            "  [[213 172 106]\n",
            "   [203 165 102]\n",
            "   [205 166 104]\n",
            "   ...\n",
            "   [217 176 105]\n",
            "   [199 161  95]\n",
            "   [192 152  91]]\n",
            "\n",
            "  [[212 170 106]\n",
            "   [206 166 103]\n",
            "   [216 176 111]\n",
            "   ...\n",
            "   [209 169  99]\n",
            "   [211 169 101]\n",
            "   [213 174 107]]\n",
            "\n",
            "  ...\n",
            "\n",
            "  [[210 171 106]\n",
            "   [207 170 106]\n",
            "   [197 162 101]\n",
            "   ...\n",
            "   [213 171 106]\n",
            "   [205 162  97]\n",
            "   [190 155  93]]\n",
            "\n",
            "  [[214 173 105]\n",
            "   [216 178 109]\n",
            "   [207 177 106]\n",
            "   ...\n",
            "   [207 166 104]\n",
            "   [200 158  99]\n",
            "   [192 160  97]]\n",
            "\n",
            "  [[227 187 114]\n",
            "   [234 198 123]\n",
            "   [230 200 123]\n",
            "   ...\n",
            "   [219 174 114]\n",
            "   [215 170 111]\n",
            "   [220 181 122]]]\n",
            "\n",
            "\n",
            " ...\n",
            "\n",
            "\n",
            " [[[ 47  61  57]\n",
            "   [ 33  53  50]\n",
            "   [ 29  56  54]\n",
            "   ...\n",
            "   [217 179 115]\n",
            "   [214 176 112]\n",
            "   [215 178 116]]\n",
            "\n",
            "  [[ 54  64  59]\n",
            "   [ 37  57  53]\n",
            "   [ 31  57  55]\n",
            "   ...\n",
            "   [211 173 111]\n",
            "   [211 173 112]\n",
            "   [215 177 116]]\n",
            "\n",
            "  [[ 51  62  58]\n",
            "   [ 35  54  50]\n",
            "   [ 32  57  54]\n",
            "   ...\n",
            "   [213 177 114]\n",
            "   [214 179 116]\n",
            "   [213 177 116]]\n",
            "\n",
            "  ...\n",
            "\n",
            "  [[ 21  46  49]\n",
            "   [ 18  45  47]\n",
            "   [ 19  48  49]\n",
            "   ...\n",
            "   [243 202 132]\n",
            "   [239 196 128]\n",
            "   [217 175 109]]\n",
            "\n",
            "  [[ 21  47  50]\n",
            "   [ 21  49  53]\n",
            "   [ 22  51  55]\n",
            "   ...\n",
            "   [242 205 130]\n",
            "   [236 200 130]\n",
            "   [219 181 115]]\n",
            "\n",
            "  [[ 22  50  51]\n",
            "   [ 23  50  54]\n",
            "   [ 25  52  56]\n",
            "   ...\n",
            "   [244 202 131]\n",
            "   [239 199 130]\n",
            "   [221 184 117]]]\n",
            "\n",
            "\n",
            " [[[ 22  50  53]\n",
            "   [ 22  48  53]\n",
            "   [ 24  52  55]\n",
            "   ...\n",
            "   [ 20  50  51]\n",
            "   [ 20  49  52]\n",
            "   [ 20  49  52]]\n",
            "\n",
            "  [[ 23  52  55]\n",
            "   [ 23  52  55]\n",
            "   [ 23  53  54]\n",
            "   ...\n",
            "   [ 17  48  51]\n",
            "   [ 18  48  53]\n",
            "   [ 20  49  52]]\n",
            "\n",
            "  [[ 21  51  54]\n",
            "   [ 21  52  56]\n",
            "   [ 21  52  53]\n",
            "   ...\n",
            "   [ 19  50  54]\n",
            "   [ 21  50  55]\n",
            "   [ 19  48  53]]\n",
            "\n",
            "  ...\n",
            "\n",
            "  [[ 24  49  52]\n",
            "   [ 23  49  52]\n",
            "   [ 20  48  51]\n",
            "   ...\n",
            "   [ 21  49  52]\n",
            "   [ 20  47  51]\n",
            "   [ 19  47  52]]\n",
            "\n",
            "  [[ 22  48  52]\n",
            "   [ 21  49  53]\n",
            "   [ 20  48  52]\n",
            "   ...\n",
            "   [ 20  48  52]\n",
            "   [ 19  47  51]\n",
            "   [ 20  47  52]]\n",
            "\n",
            "  [[ 22  50  54]\n",
            "   [ 21  50  54]\n",
            "   [ 22  50  54]\n",
            "   ...\n",
            "   [ 17  45  48]\n",
            "   [ 18  46  49]\n",
            "   [ 19  46  51]]]\n",
            "\n",
            "\n",
            " [[[  4   8   4]\n",
            "   [  3   7   3]\n",
            "   [  2   6   2]\n",
            "   ...\n",
            "   [  9   9   5]\n",
            "   [  8   9   4]\n",
            "   [  3   6   0]]\n",
            "\n",
            "  [[  1   6   2]\n",
            "   [  2   6   1]\n",
            "   [  0   4   0]\n",
            "   ...\n",
            "   [  6   7   3]\n",
            "   [  3   6   1]\n",
            "   [  1   6   1]]\n",
            "\n",
            "  [[  1   7   2]\n",
            "   [  1   5   1]\n",
            "   [  2   4   0]\n",
            "   ...\n",
            "   [  2   7   2]\n",
            "   [  2   7   2]\n",
            "   [  1   6   2]]\n",
            "\n",
            "  ...\n",
            "\n",
            "  [[  4   8   3]\n",
            "   [  4   8   5]\n",
            "   [  6  10   8]\n",
            "   ...\n",
            "   [ 17  48  51]\n",
            "   [ 16  48  50]\n",
            "   [ 18  49  51]]\n",
            "\n",
            "  [[  4   8   2]\n",
            "   [  5   9   6]\n",
            "   [  6  10   7]\n",
            "   ...\n",
            "   [ 16  47  50]\n",
            "   [ 16  47  49]\n",
            "   [ 18  49  50]]\n",
            "\n",
            "  [[  5  10   3]\n",
            "   [  4   9   3]\n",
            "   [  4  10   3]\n",
            "   ...\n",
            "   [ 19  48  51]\n",
            "   [ 17  48  50]\n",
            "   [ 16  47  48]]]]\n",
            "(298, 300, 300, 3)\n",
            "[0. 0. 0. 0. 0. 0. 0. 0. 0. 0. 0. 0. 0. 0. 0. 0. 0. 0. 0. 0. 0. 0. 0. 0.\n",
            " 0. 0. 0. 0. 0. 0. 0. 0. 0. 0. 0. 0. 0. 0. 0. 0. 0. 0. 0. 0. 0. 0. 0. 0.\n",
            " 0. 0. 0. 0. 0. 0. 0. 0. 0. 0. 0. 0. 0. 0. 0. 0. 0. 0. 0. 0. 0. 0. 0. 0.\n",
            " 0. 0. 0. 0. 0. 0. 0. 0. 0. 0. 0. 0. 0. 0. 0. 0. 0. 0. 0. 0. 0. 0. 0. 0.\n",
            " 0. 0. 0. 0. 0. 0. 0. 0. 0. 0. 0. 0. 0. 0. 0. 0. 0. 0. 0. 0. 0. 0. 0. 0.\n",
            " 0. 0. 0. 0. 0. 0. 0. 0. 0. 0. 0. 0. 0. 0. 0. 0. 0. 0. 0. 0. 0. 0. 0. 0.\n",
            " 0. 0. 0. 0. 0. 1. 1. 1. 1. 1. 1. 1. 1. 1. 1. 1. 1. 1. 1. 1. 1. 1. 1. 1.\n",
            " 1. 1. 1. 1. 1. 1. 1. 1. 1. 1. 1. 1. 1. 1. 1. 1. 1. 1. 1. 1. 1. 1. 1. 1.\n",
            " 1. 1. 1. 1. 1. 1. 1. 1. 1. 1. 1. 1. 1. 1. 1. 1. 1. 1. 1. 1. 1. 1. 1. 1.\n",
            " 1. 1. 1. 1. 1. 1. 1. 1. 1. 1. 1. 1. 1. 1. 1. 1. 1. 1. 1. 1. 1. 1. 1. 1.\n",
            " 1. 1. 1. 1. 1. 1. 1. 1. 1. 1. 1. 1. 1. 1. 1. 1. 1. 1. 1. 1. 1. 1. 1. 1.\n",
            " 1. 1. 1. 1. 1. 1. 1. 1. 1. 1. 1. 1. 1. 1. 1. 1. 1. 1. 1. 1. 1. 1. 1. 1.\n",
            " 1. 1. 1. 1. 1. 1. 1. 1. 1. 1.]\n",
            "(298,)\n"
          ],
          "name": "stdout"
        }
      ]
    },
    {
      "cell_type": "code",
      "metadata": {
        "id": "ynQbOld4eSoO",
        "colab_type": "code",
        "colab": {}
      },
      "source": [
        "import matplotlib.pyplot as plt\n",
        "import cv2\n",
        "%matplotlib inline"
      ],
      "execution_count": 0,
      "outputs": []
    },
    {
      "cell_type": "code",
      "metadata": {
        "id": "bWwojKKeDfdi",
        "colab_type": "code",
        "outputId": "7520df04-e058-4078-bed3-70ca0a51c538",
        "colab": {
          "base_uri": "https://localhost:8080/",
          "height": 121
        }
      },
      "source": [
        "#import numpy as  np\n",
        "bal_xtrain = bal_xtrain.astype('float32')\n",
        "\n",
        "print(np.max(bal_xtrain) ,np.max(bal_ytrain))\n",
        "print(np.min(bal_xtrain) , np.min(bal_ytrain))\n",
        "\n",
        "mean = np.mean(bal_xtrain)\n",
        "std = np.std(bal_xtrain)\n",
        "print(mean)\n",
        "print(std)\n",
        "\n",
        "bal_xtrain -=mean\n",
        "bal_xtrain /=std\n",
        "\n",
        "print(np.max(bal_xtrain) ,np.max(bal_ytrain))\n",
        "print(np.min(bal_xtrain) , np.min(bal_ytrain))\n",
        "\n"
      ],
      "execution_count": 22,
      "outputs": [
        {
          "output_type": "stream",
          "text": [
            "255.0 1.0\n",
            "0.0 0.0\n",
            "52.748867\n",
            "52.869015\n",
            "3.8255136 1.0\n",
            "-0.99772745 0.0\n"
          ],
          "name": "stdout"
        }
      ]
    },
    {
      "cell_type": "code",
      "metadata": {
        "id": "PISkY7uhf7Zm",
        "colab_type": "code",
        "colab": {
          "base_uri": "https://localhost:8080/",
          "height": 52
        },
        "outputId": "52e73ac5-0e73-453a-84ce-92d1c4048c69"
      },
      "source": [
        "from keras.utils import to_categorical\n",
        "bal_ytrain = to_categorical(bal_ytrain)\n",
        "print(bal_ytrain[149])"
      ],
      "execution_count": 7,
      "outputs": [
        {
          "output_type": "stream",
          "text": [
            "[[1. 0.]\n",
            " [0. 1.]]\n"
          ],
          "name": "stdout"
        }
      ]
    },
    {
      "cell_type": "code",
      "metadata": {
        "id": "kNuhA7B2CBqZ",
        "colab_type": "code",
        "colab": {}
      },
      "source": [
        "import tensorflow as tf\n",
        "from tensorflow import keras\n",
        "from tensorflow.keras import models\n",
        "from tensorflow.keras import metrics\n",
        "from tensorflow.keras import layers"
      ],
      "execution_count": 0,
      "outputs": []
    },
    {
      "cell_type": "code",
      "metadata": {
        "id": "07kCmbWWOTHh",
        "colab_type": "code",
        "outputId": "c885ccc5-a74e-46ba-99b0-b5c0fe3c70ab",
        "colab": {
          "base_uri": "https://localhost:8080/",
          "height": 304
        }
      },
      "source": [
        "keras.utils.normalize(bal_xtrain, axis=1 , order=2)\n",
        "plt.imshow(bal_xtrain[149],cmap='gray')\n",
        "#plt.imshow(bal_ytrain[145])\n",
        "print(bal_ytrain[149])"
      ],
      "execution_count": 24,
      "outputs": [
        {
          "output_type": "stream",
          "text": [
            "Clipping input data to the valid range for imshow with RGB data ([0..1] for floats or [0..255] for integers).\n"
          ],
          "name": "stderr"
        },
        {
          "output_type": "stream",
          "text": [
            "1.0\n"
          ],
          "name": "stdout"
        },
        {
          "output_type": "display_data",
          "data": {
            "image/png": "[encoded data removed]",
            "text/plain": [
              "<Figure size 432x288 with 1 Axes>"
            ]
          },
          "metadata": {
            "tags": [],
            "needs_background": "light"
          }
        }
      ]
    },
    {
      "cell_type": "code",
      "metadata": {
        "id": "xH9SPNZRgjaQ",
        "colab_type": "code",
        "colab": {}
      },
      "source": [
        "from sklearn.model_selection import train_test_split\n",
        "X_train , X_test, y_train , y_test = train_test_split(bal_xtrain , bal_ytrain , test_size =0.25)"
      ],
      "execution_count": 0,
      "outputs": []
    },
    {
      "cell_type": "code",
      "metadata": {
        "id": "mf3uSroXC0z3",
        "colab_type": "code",
        "outputId": "ac0dbe29-3f99-4e8a-c040-53d3a55784f9",
        "colab": {
          "base_uri": "https://localhost:8080/",
          "height": 434
        }
      },
      "source": [
        "model = models.Sequential()\n",
        "model.add(layers.Conv2D(16,(5,5), input_shape=(300,300,3) , activation='relu' ,strides=(1,1) , padding='valid'))\n",
        "model.add(layers.AveragePooling2D(pool_size=(2,2) , strides=(2,2)))\n",
        "\n",
        "\n",
        "model.add(layers.Conv2D(16, (5,5),activation='relu', strides=(1,1), padding='valid'))\n",
        "model.add(layers.AveragePooling2D(pool_size=(2,2), strides=(2,2)))\n",
        "\n",
        "model.add(layers.Flatten())\n",
        "\n",
        "model.add(layers.Dense(120, activation='relu'))\n",
        "model.add(layers.Dense(84, activation='relu'))\n",
        "\n",
        "\n",
        "model.add(layers.Dense(2, activation='softmax'))\n",
        "\n",
        "model.summary()"
      ],
      "execution_count": 26,
      "outputs": [
        {
          "output_type": "stream",
          "text": [
            "Model: \"sequential_3\"\n",
            "_________________________________________________________________\n",
            "Layer (type)                 Output Shape              Param #   \n",
            "=================================================================\n",
            "conv2d_6 (Conv2D)            (None, 296, 296, 16)      1216      \n",
            "_________________________________________________________________\n",
            "average_pooling2d_6 (Average (None, 148, 148, 16)      0         \n",
            "_________________________________________________________________\n",
            "conv2d_7 (Conv2D)            (None, 144, 144, 16)      6416      \n",
            "_________________________________________________________________\n",
            "average_pooling2d_7 (Average (None, 72, 72, 16)        0         \n",
            "_________________________________________________________________\n",
            "flatten_3 (Flatten)          (None, 82944)             0         \n",
            "_________________________________________________________________\n",
            "dense_9 (Dense)              (None, 120)               9953400   \n",
            "_________________________________________________________________\n",
            "dense_10 (Dense)             (None, 84)                10164     \n",
            "_________________________________________________________________\n",
            "dense_11 (Dense)             (None, 2)                 170       \n",
            "=================================================================\n",
            "Total params: 9,971,366\n",
            "Trainable params: 9,971,366\n",
            "Non-trainable params: 0\n",
            "_________________________________________________________________\n"
          ],
          "name": "stdout"
        }
      ]
    },
    {
      "cell_type": "code",
      "metadata": {
        "id": "0mbE1G7mWVos",
        "colab_type": "code",
        "outputId": "27e89e69-7766-473f-cc5a-d0c3cdd3d4ed",
        "colab": {
          "base_uri": "https://localhost:8080/",
          "height": 1000
        }
      },
      "source": [
        "#model.compile(loss=\"categorical_crossentropy\", optimizer=\"sgd\", metrics=['accuracy'])\n",
        "#tf.keras.metrics.SparseCategoricalAccuracy(\n",
        " #   name='sparse_categorical_accuracy', dtype=None\n",
        "#)\n",
        "\n",
        "model.compile(optimizer=keras.optimizers.SGD(),  # Optimizer\n",
        "              # Loss function to minimize\n",
        "              #loss ='mean_squared_error',\n",
        "              loss=keras.losses.SparseCategoricalCrossentropy(from_logits=True),\n",
        "              # List of metrics to monitor\n",
        "              metrics=['sparse_categorical_accuracy'])\n",
        "\n",
        "history=model.fit(X_train,y_train,epochs=30,verbose=1)\n",
        "\n",
        "\n"
      ],
      "execution_count": 27,
      "outputs": [
        {
          "output_type": "stream",
          "text": [
            "Epoch 1/30\n",
            "7/7 [==============================] - 10s 1s/step - loss: 0.6694 - sparse_categorical_accuracy: 0.6457\n",
            "Epoch 2/30\n",
            "7/7 [==============================] - 10s 1s/step - loss: 0.5920 - sparse_categorical_accuracy: 0.8072\n",
            "Epoch 3/30\n",
            "7/7 [==============================] - 10s 1s/step - loss: 0.5209 - sparse_categorical_accuracy: 0.8520\n",
            "Epoch 4/30\n",
            "7/7 [==============================] - 10s 1s/step - loss: 0.4701 - sparse_categorical_accuracy: 0.8655\n",
            "Epoch 5/30\n",
            "7/7 [==============================] - 10s 1s/step - loss: 0.4343 - sparse_categorical_accuracy: 0.9148\n",
            "Epoch 6/30\n",
            "7/7 [==============================] - 10s 1s/step - loss: 0.4172 - sparse_categorical_accuracy: 0.9327\n",
            "Epoch 7/30\n",
            "7/7 [==============================] - 10s 1s/step - loss: 0.4013 - sparse_categorical_accuracy: 0.9417\n",
            "Epoch 8/30\n",
            "7/7 [==============================] - 10s 1s/step - loss: 0.3877 - sparse_categorical_accuracy: 0.9462\n",
            "Epoch 9/30\n",
            "7/7 [==============================] - 10s 1s/step - loss: 0.3800 - sparse_categorical_accuracy: 0.9507\n",
            "Epoch 10/30\n",
            "7/7 [==============================] - 10s 1s/step - loss: 0.3728 - sparse_categorical_accuracy: 0.9552\n",
            "Epoch 11/30\n",
            "7/7 [==============================] - 10s 1s/step - loss: 0.3686 - sparse_categorical_accuracy: 0.9552\n",
            "Epoch 12/30\n",
            "7/7 [==============================] - 10s 1s/step - loss: 0.3677 - sparse_categorical_accuracy: 0.9552\n",
            "Epoch 13/30\n",
            "7/7 [==============================] - 10s 1s/step - loss: 0.3677 - sparse_categorical_accuracy: 0.9552\n",
            "Epoch 14/30\n",
            "7/7 [==============================] - 10s 1s/step - loss: 0.3617 - sparse_categorical_accuracy: 0.9596\n",
            "Epoch 15/30\n",
            "7/7 [==============================] - 10s 1s/step - loss: 0.3623 - sparse_categorical_accuracy: 0.9596\n",
            "Epoch 16/30\n",
            "7/7 [==============================] - 10s 1s/step - loss: 0.3608 - sparse_categorical_accuracy: 0.9552\n",
            "Epoch 17/30\n",
            "7/7 [==============================] - 10s 1s/step - loss: 0.3617 - sparse_categorical_accuracy: 0.9552\n",
            "Epoch 18/30\n",
            "7/7 [==============================] - 10s 1s/step - loss: 0.3588 - sparse_categorical_accuracy: 0.9596\n",
            "Epoch 19/30\n",
            "7/7 [==============================] - 10s 1s/step - loss: 0.3605 - sparse_categorical_accuracy: 0.9596\n",
            "Epoch 20/30\n",
            "7/7 [==============================] - 10s 1s/step - loss: 0.3585 - sparse_categorical_accuracy: 0.9596\n",
            "Epoch 21/30\n",
            "7/7 [==============================] - 10s 1s/step - loss: 0.3562 - sparse_categorical_accuracy: 0.9596\n",
            "Epoch 22/30\n",
            "7/7 [==============================] - 10s 1s/step - loss: 0.3585 - sparse_categorical_accuracy: 0.9552\n",
            "Epoch 23/30\n",
            "7/7 [==============================] - 10s 1s/step - loss: 0.3566 - sparse_categorical_accuracy: 0.9596\n",
            "Epoch 24/30\n",
            "7/7 [==============================] - 10s 1s/step - loss: 0.3560 - sparse_categorical_accuracy: 0.9596\n",
            "Epoch 25/30\n",
            "7/7 [==============================] - 10s 1s/step - loss: 0.3572 - sparse_categorical_accuracy: 0.9596\n",
            "Epoch 26/30\n",
            "7/7 [==============================] - 10s 1s/step - loss: 0.3543 - sparse_categorical_accuracy: 0.9596\n",
            "Epoch 27/30\n",
            "7/7 [==============================] - 10s 1s/step - loss: 0.3578 - sparse_categorical_accuracy: 0.9596\n",
            "Epoch 28/30\n",
            "7/7 [==============================] - 10s 1s/step - loss: 0.3555 - sparse_categorical_accuracy: 0.9507\n",
            "Epoch 29/30\n",
            "7/7 [==============================] - 10s 1s/step - loss: 0.3541 - sparse_categorical_accuracy: 0.9596\n",
            "Epoch 30/30\n",
            "7/7 [==============================] - 10s 1s/step - loss: 0.3538 - sparse_categorical_accuracy: 0.9596\n"
          ],
          "name": "stdout"
        }
      ]
    },
    {
      "cell_type": "code",
      "metadata": {
        "id": "_IWWnGBDibX2",
        "colab_type": "code",
        "colab": {
          "base_uri": "https://localhost:8080/",
          "height": 69
        },
        "outputId": "8b7f917c-904f-4f57-fd3a-9496485145e2"
      },
      "source": [
        "test_loss , test_acc = model.evaluate(X_test,y_test)\n",
        "print(\"Test Acc : \", test_acc) \n",
        "print(\"Test loss : \",test_loss)"
      ],
      "execution_count": 28,
      "outputs": [
        {
          "output_type": "stream",
          "text": [
            "3/3 [==============================] - 1s 198ms/step - loss: 0.4332 - sparse_categorical_accuracy: 0.8667\n",
            "Test Acc :  0.8666666746139526\n",
            "Test loss :  0.43322089314460754\n"
          ],
          "name": "stdout"
        }
      ]
    }
  ]
}