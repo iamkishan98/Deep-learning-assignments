{
  "nbformat": 4,
  "nbformat_minor": 0,
  "metadata": {
    "colab": {
      "name": "23rdJAN.ipynb",
      "provenance": [],
      "collapsed_sections": [],
      "authorship_tag": "ABX9TyNPeLWTQXr6CdION9AbUF3F",
      "include_colab_link": true
    },
    "kernelspec": {
      "name": "python3",
      "display_name": "Python 3"
    }
  },
  "cells": [
    {
      "cell_type": "markdown",
      "metadata": {
        "id": "view-in-github",
        "colab_type": "text"
      },
      "source": [
        "<a href=\"https://colab.research.google.com/github/iamkishan98/Deep-learning-assignments/blob/master/23rdJAN.ipynb\" target=\"_parent\"><img src=\"https://colab.research.google.com/assets/colab-badge.svg\" alt=\"Open In Colab\"/></a>"
      ]
    },
    {
      "cell_type": "code",
      "metadata": {
        "id": "3nCK-3uqA5yZ",
        "colab_type": "code",
        "outputId": "68f10eff-dfc3-4ee0-f707-5390d8955660",
        "colab": {
          "base_uri": "https://localhost:8080/",
          "height": 225
        }
      },
      "source": [
        "x =[1,24,546,5]\n",
        "print(x)\n",
        "y =x\n",
        "print(y)\n",
        "x.append(100)\n",
        "print(x)\n",
        "print(y)\n",
        "y.append(90)\n",
        "print(y)\n",
        "z = list(y)\n",
        "print(z)\n",
        "x.remove(546)\n",
        "print(x)\n",
        "print(z)\n",
        "\n",
        "z.insert(2,46)\n",
        "print(z)\n",
        "a = [2,3,'NIT',6]\n",
        "c = ['STR','DL']\n",
        "b = a+c\n",
        "print(b)\n",
        "f = list(range(5))\n",
        "print(f)\n",
        "print(type(f))\n"
      ],
      "execution_count": 0,
      "outputs": [
        {
          "output_type": "stream",
          "text": [
            "[1, 24, 546, 5]\n",
            "[1, 24, 546, 5]\n",
            "[1, 24, 546, 5, 100]\n",
            "[1, 24, 546, 5, 100]\n",
            "[1, 24, 546, 5, 100, 90]\n",
            "[1, 24, 546, 5, 100, 90]\n",
            "[1, 24, 5, 100, 90]\n",
            "[1, 24, 546, 5, 100, 90]\n",
            "[1, 24, 46, 546, 5, 100, 90]\n",
            "[2, 3, 'NIT', 6, 'STR', 'DL']\n",
            "[0, 1, 2, 3, 4]\n",
            "<class 'list'>\n"
          ],
          "name": "stdout"
        }
      ]
    }
  ]
}